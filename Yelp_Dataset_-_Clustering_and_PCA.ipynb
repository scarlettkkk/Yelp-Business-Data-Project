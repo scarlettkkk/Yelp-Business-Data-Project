{
 "cells": [
  {
   "cell_type": "markdown",
   "metadata": {},
   "source": [
    "# Yelp Data Challenge - Clustering and PCA\n",
    "\n",
    "BitTiger DS501\n",
    "\n",
    "Mar 2017"
   ]
  },
  {
   "cell_type": "code",
   "execution_count": 151,
   "metadata": {
    "collapsed": true
   },
   "outputs": [],
   "source": [
    "import pandas as pd\n",
    "import numpy as np\n",
    "import matplotlib.pyplot as plt\n",
    "% matplotlib inline\n",
    "plt.style.use(\"ggplot\")"
   ]
  },
  {
   "cell_type": "code",
   "execution_count": 152,
   "metadata": {
    "collapsed": false
   },
   "outputs": [],
   "source": [
    "df = pd.read_csv('last_2yr_restaurant_reviews.csv')"
   ]
  },
  {
   "cell_type": "code",
   "execution_count": 153,
   "metadata": {
    "collapsed": false
   },
   "outputs": [
    {
     "data": {
      "text/html": [
       "<div>\n",
       "<table border=\"1\" class=\"dataframe\">\n",
       "  <thead>\n",
       "    <tr style=\"text-align: right;\">\n",
       "      <th></th>\n",
       "      <th>business_id</th>\n",
       "      <th>name</th>\n",
       "      <th>categories</th>\n",
       "      <th>avg_stars</th>\n",
       "      <th>cool</th>\n",
       "      <th>date</th>\n",
       "      <th>funny</th>\n",
       "      <th>review_id</th>\n",
       "      <th>stars</th>\n",
       "      <th>text</th>\n",
       "      <th>type</th>\n",
       "      <th>useful</th>\n",
       "      <th>user_id</th>\n",
       "      <th>count</th>\n",
       "    </tr>\n",
       "  </thead>\n",
       "  <tbody>\n",
       "    <tr>\n",
       "      <th>0</th>\n",
       "      <td>--9e1ONYQuAa-CB_Rrw7Tw</td>\n",
       "      <td>Delmonico Steakhouse</td>\n",
       "      <td>[Steakhouses, Restaurants, Cajun/Creole]</td>\n",
       "      <td>4.0</td>\n",
       "      <td>0</td>\n",
       "      <td>2015-06-26</td>\n",
       "      <td>0</td>\n",
       "      <td>nCqdz-NW64KazpxqnDr0sQ</td>\n",
       "      <td>1</td>\n",
       "      <td>I mainly went for the ceasar salad prepared ta...</td>\n",
       "      <td>review</td>\n",
       "      <td>0</td>\n",
       "      <td>0XVzm4kVIAaH4eQAxWbhvw</td>\n",
       "      <td>1</td>\n",
       "    </tr>\n",
       "    <tr>\n",
       "      <th>1</th>\n",
       "      <td>--9e1ONYQuAa-CB_Rrw7Tw</td>\n",
       "      <td>Delmonico Steakhouse</td>\n",
       "      <td>[Steakhouses, Restaurants, Cajun/Creole]</td>\n",
       "      <td>4.0</td>\n",
       "      <td>0</td>\n",
       "      <td>2015-06-29</td>\n",
       "      <td>0</td>\n",
       "      <td>iwx6s6yQxc7yjS7NFANZig</td>\n",
       "      <td>4</td>\n",
       "      <td>Nice atmosphere and wonderful service. I had t...</td>\n",
       "      <td>review</td>\n",
       "      <td>0</td>\n",
       "      <td>2aeNFntqY2QDZLADNo8iQQ</td>\n",
       "      <td>1</td>\n",
       "    </tr>\n",
       "    <tr>\n",
       "      <th>2</th>\n",
       "      <td>--9e1ONYQuAa-CB_Rrw7Tw</td>\n",
       "      <td>Delmonico Steakhouse</td>\n",
       "      <td>[Steakhouses, Restaurants, Cajun/Creole]</td>\n",
       "      <td>4.0</td>\n",
       "      <td>0</td>\n",
       "      <td>2015-04-05</td>\n",
       "      <td>0</td>\n",
       "      <td>2HrBENXZTiitcCJfzkELgA</td>\n",
       "      <td>2</td>\n",
       "      <td>To be honest it really quit aweful. First the ...</td>\n",
       "      <td>review</td>\n",
       "      <td>0</td>\n",
       "      <td>WFhv5pMJRDPWSyLnKiWFXA</td>\n",
       "      <td>1</td>\n",
       "    </tr>\n",
       "    <tr>\n",
       "      <th>3</th>\n",
       "      <td>--9e1ONYQuAa-CB_Rrw7Tw</td>\n",
       "      <td>Delmonico Steakhouse</td>\n",
       "      <td>[Steakhouses, Restaurants, Cajun/Creole]</td>\n",
       "      <td>4.0</td>\n",
       "      <td>0</td>\n",
       "      <td>2016-02-16</td>\n",
       "      <td>0</td>\n",
       "      <td>6YNPXoq41qTMZ2TEi0BYUA</td>\n",
       "      <td>2</td>\n",
       "      <td>The food was decent, but the service was defin...</td>\n",
       "      <td>review</td>\n",
       "      <td>0</td>\n",
       "      <td>2S6gWE-K3DHNcKYYSgN7xA</td>\n",
       "      <td>1</td>\n",
       "    </tr>\n",
       "    <tr>\n",
       "      <th>4</th>\n",
       "      <td>--9e1ONYQuAa-CB_Rrw7Tw</td>\n",
       "      <td>Delmonico Steakhouse</td>\n",
       "      <td>[Steakhouses, Restaurants, Cajun/Creole]</td>\n",
       "      <td>4.0</td>\n",
       "      <td>0</td>\n",
       "      <td>2016-02-08</td>\n",
       "      <td>1</td>\n",
       "      <td>4bQrVUiRZ642odcKCS0OhQ</td>\n",
       "      <td>2</td>\n",
       "      <td>If you're looking for craptastic service and m...</td>\n",
       "      <td>review</td>\n",
       "      <td>1</td>\n",
       "      <td>rCTVWx_Tws2jWi-K89iEyw</td>\n",
       "      <td>1</td>\n",
       "    </tr>\n",
       "  </tbody>\n",
       "</table>\n",
       "</div>"
      ],
      "text/plain": [
       "              business_id                  name  \\\n",
       "0  --9e1ONYQuAa-CB_Rrw7Tw  Delmonico Steakhouse   \n",
       "1  --9e1ONYQuAa-CB_Rrw7Tw  Delmonico Steakhouse   \n",
       "2  --9e1ONYQuAa-CB_Rrw7Tw  Delmonico Steakhouse   \n",
       "3  --9e1ONYQuAa-CB_Rrw7Tw  Delmonico Steakhouse   \n",
       "4  --9e1ONYQuAa-CB_Rrw7Tw  Delmonico Steakhouse   \n",
       "\n",
       "                                 categories  avg_stars  cool        date  \\\n",
       "0  [Steakhouses, Restaurants, Cajun/Creole]        4.0     0  2015-06-26   \n",
       "1  [Steakhouses, Restaurants, Cajun/Creole]        4.0     0  2015-06-29   \n",
       "2  [Steakhouses, Restaurants, Cajun/Creole]        4.0     0  2015-04-05   \n",
       "3  [Steakhouses, Restaurants, Cajun/Creole]        4.0     0  2016-02-16   \n",
       "4  [Steakhouses, Restaurants, Cajun/Creole]        4.0     0  2016-02-08   \n",
       "\n",
       "   funny               review_id  stars  \\\n",
       "0      0  nCqdz-NW64KazpxqnDr0sQ      1   \n",
       "1      0  iwx6s6yQxc7yjS7NFANZig      4   \n",
       "2      0  2HrBENXZTiitcCJfzkELgA      2   \n",
       "3      0  6YNPXoq41qTMZ2TEi0BYUA      2   \n",
       "4      1  4bQrVUiRZ642odcKCS0OhQ      2   \n",
       "\n",
       "                                                text    type  useful  \\\n",
       "0  I mainly went for the ceasar salad prepared ta...  review       0   \n",
       "1  Nice atmosphere and wonderful service. I had t...  review       0   \n",
       "2  To be honest it really quit aweful. First the ...  review       0   \n",
       "3  The food was decent, but the service was defin...  review       0   \n",
       "4  If you're looking for craptastic service and m...  review       1   \n",
       "\n",
       "                  user_id  count  \n",
       "0  0XVzm4kVIAaH4eQAxWbhvw      1  \n",
       "1  2aeNFntqY2QDZLADNo8iQQ      1  \n",
       "2  WFhv5pMJRDPWSyLnKiWFXA      1  \n",
       "3  2S6gWE-K3DHNcKYYSgN7xA      1  \n",
       "4  rCTVWx_Tws2jWi-K89iEyw      1  "
      ]
     },
     "execution_count": 153,
     "metadata": {},
     "output_type": "execute_result"
    }
   ],
   "source": [
    "df.head()"
   ]
  },
  {
   "cell_type": "markdown",
   "metadata": {},
   "source": [
    "## 1. Cluster the review text data for all the restaurants"
   ]
  },
  {
   "cell_type": "markdown",
   "metadata": {},
   "source": [
    "### Define your feature variables, here is the text of the review"
   ]
  },
  {
   "cell_type": "code",
   "execution_count": 215,
   "metadata": {
    "collapsed": true
   },
   "outputs": [],
   "source": [
    "# Take the values of the column that contains review text data, save to a variable named \"documents\"\n",
    "documents=df[\"text\"].values"
   ]
  },
  {
   "cell_type": "markdown",
   "metadata": {},
   "source": [
    "### Define your target variable (any categorical variable that may be meaningful)"
   ]
  },
  {
   "cell_type": "markdown",
   "metadata": {},
   "source": [
    "#### For example, I am interested in perfect (5 stars) and imperfect (1-4 stars) rating"
   ]
  },
  {
   "cell_type": "code",
   "execution_count": 216,
   "metadata": {
    "collapsed": false
   },
   "outputs": [
    {
     "data": {
      "text/plain": [
       "array([0, 0, 0, ..., 1, 1, 0])"
      ]
     },
     "execution_count": 216,
     "metadata": {},
     "output_type": "execute_result"
    }
   ],
   "source": [
    "# Make a column and take the values, save to a variable named \"target\"\n",
    "df['perfectscore']=(df['stars']>4)\n",
    "df['perfectscore']=df['perfectscore'] * 1\n",
    "target=df['perfectscore'].values\n",
    "target"
   ]
  },
  {
   "cell_type": "markdown",
   "metadata": {},
   "source": [
    "#### You may want to look at the statistic of the target variable"
   ]
  },
  {
   "cell_type": "code",
   "execution_count": 217,
   "metadata": {
    "collapsed": false
   },
   "outputs": [
    {
     "data": {
      "text/plain": [
       "array([0, 0, 0, 0, 1, 1, 1, 1, 0])"
      ]
     },
     "execution_count": 217,
     "metadata": {},
     "output_type": "execute_result"
    }
   ],
   "source": [
    "# To be implemented\n",
    "target[1:10]"
   ]
  },
  {
   "cell_type": "markdown",
   "metadata": {},
   "source": [
    "### Create training dataset and test dataset"
   ]
  },
  {
   "cell_type": "code",
   "execution_count": 218,
   "metadata": {
    "collapsed": false
   },
   "outputs": [],
   "source": [
    "from sklearn.cross_validation import train_test_split"
   ]
  },
  {
   "cell_type": "code",
   "execution_count": 231,
   "metadata": {
    "collapsed": true
   },
   "outputs": [],
   "source": [
    "# documents is your X, target is your y\n",
    "# Now split the data to training set and test set\n",
    "# You may want to start with a big \"test_size\", since large training set can easily crash your laptop.\n",
    "documents_train, documents_test, target_train, target_test = train_test_split(documents, target, test_size=0.88, random_state=42)\n",
    "documents_train1, documents_test1, target_train1, target_test1 = train_test_split(documents, target, test_size=0.3, random_state=42)\n"
   ]
  },
  {
   "cell_type": "code",
   "execution_count": 220,
   "metadata": {
    "collapsed": false
   },
   "outputs": [
    {
     "data": {
      "text/plain": [
       "(41714,)"
      ]
     },
     "execution_count": 220,
     "metadata": {},
     "output_type": "execute_result"
    }
   ],
   "source": [
    "documents_train.shape"
   ]
  },
  {
   "cell_type": "markdown",
   "metadata": {},
   "source": [
    "### Get NLP representation of the documents\n",
    "\n",
    "#### Fit TfidfVectorizer with training data only, then tranform all the data to tf-idf"
   ]
  },
  {
   "cell_type": "code",
   "execution_count": 221,
   "metadata": {
    "collapsed": true
   },
   "outputs": [],
   "source": [
    "from sklearn.feature_extraction.text import TfidfVectorizer"
   ]
  },
  {
   "cell_type": "code",
   "execution_count": 222,
   "metadata": {
    "collapsed": false
   },
   "outputs": [],
   "source": [
    "# Create TfidfVectorizer, and name it vectorizer, choose a reasonable max_features, e.g. 1000\n",
    "vectorizer = TfidfVectorizer(stop_words='english', max_features=1000)"
   ]
  },
  {
   "cell_type": "code",
   "execution_count": 223,
   "metadata": {
    "collapsed": false
   },
   "outputs": [
    {
     "data": {
      "text/plain": [
       "(41714, 1000)"
      ]
     },
     "execution_count": 223,
     "metadata": {},
     "output_type": "execute_result"
    }
   ],
   "source": [
    "# Train the model with your training data\n",
    "train_vectors=vectorizer.fit_transform(documents_train).toarray()\n",
    "train_vectors.shape"
   ]
  },
  {
   "cell_type": "code",
   "execution_count": 232,
   "metadata": {
    "collapsed": false
   },
   "outputs": [],
   "source": [
    "train_vectors1=vectorizer.fit_transform(documents_train1).toarray()\n",
    "test_vectors1=vectorizer.transform(documents_test1).toarray()"
   ]
  },
  {
   "cell_type": "code",
   "execution_count": 224,
   "metadata": {
    "collapsed": true
   },
   "outputs": [],
   "source": [
    "# Get the vocab of your tfidf\n",
    "vocab=vectorizer.get_feature_names()\n"
   ]
  },
  {
   "cell_type": "code",
   "execution_count": 225,
   "metadata": {
    "collapsed": true
   },
   "outputs": [],
   "source": [
    "# Use the trained model to transform all the reviews\n",
    "y_test=target_test\n",
    "x_test=vectorizer.transform(documents_test).toarray()\n",
    "x_train=train_vectors\n",
    "y_train=target_train"
   ]
  },
  {
   "cell_type": "markdown",
   "metadata": {},
   "source": [
    "### Cluster reviews with KMeans"
   ]
  },
  {
   "cell_type": "markdown",
   "metadata": {},
   "source": [
    "#### Fit k-means clustering with the training vectors and apply it on all the data"
   ]
  },
  {
   "cell_type": "code",
   "execution_count": 165,
   "metadata": {
    "collapsed": false
   },
   "outputs": [
    {
     "data": {
      "text/plain": [
       "KMeans(algorithm='auto', copy_x=True, init='k-means++', max_iter=300,\n",
       "    n_clusters=8, n_init=10, n_jobs=1, precompute_distances='auto',\n",
       "    random_state=None, tol=0.0001, verbose=0)"
      ]
     },
     "execution_count": 165,
     "metadata": {},
     "output_type": "execute_result"
    }
   ],
   "source": [
    "# To be implemented\n",
    "from sklearn.cluster import KMeans\n",
    "\n",
    "kmeans = KMeans()\n",
    "\n",
    "kmeans.fit(train_vectors)"
   ]
  },
  {
   "cell_type": "markdown",
   "metadata": {},
   "source": [
    "#### Make predictions on all your data"
   ]
  },
  {
   "cell_type": "code",
   "execution_count": 166,
   "metadata": {
    "collapsed": false
   },
   "outputs": [
    {
     "data": {
      "text/plain": [
       "(305905,)"
      ]
     },
     "execution_count": 166,
     "metadata": {},
     "output_type": "execute_result"
    }
   ],
   "source": [
    "# To be implemented\n",
    "kmeans.predict(x_test).shape"
   ]
  },
  {
   "cell_type": "markdown",
   "metadata": {},
   "source": [
    "#### Inspect the centroids\n",
    "To find out what \"topics\" Kmeans has discovered we must inspect the centroids. Print out the centroids of the Kmeans clustering.\n",
    "\n",
    "   These centroids are simply a bunch of vectors.  To make any sense of them we need to map these vectors back into our 'word space'.  Think of each feature/dimension of the centroid vector as representing the \"average\" review or the average occurances of words for that cluster."
   ]
  },
  {
   "cell_type": "code",
   "execution_count": 167,
   "metadata": {
    "collapsed": false
   },
   "outputs": [
    {
     "name": "stdout",
     "output_type": "stream",
     "text": [
      "cluster centers:\n",
      "[[ 0.00265707  0.00731115  0.00310438 ...,  0.00052256  0.00282245\n",
      "   0.00711899]\n",
      " [ 0.00088609  0.00513404  0.00185774 ...,  0.00114475  0.00401016\n",
      "   0.00642387]\n",
      " [ 0.00205197  0.00935856  0.00163213 ...,  0.00166868  0.00678275\n",
      "   0.00969197]\n",
      " ..., \n",
      " [ 0.00150206  0.00456697  0.00220215 ...,  0.00084444  0.0022242\n",
      "   0.00856657]\n",
      " [ 0.00108235  0.00415187  0.00096545 ...,  0.00137738  0.00271845\n",
      "   0.00777163]\n",
      " [ 0.00430563  0.01949605  0.00307583 ...,  0.00388059  0.00045283\n",
      "   0.00159974]]\n",
      "(8, 1000)\n"
     ]
    }
   ],
   "source": [
    "# To be implemented\n",
    "print \"cluster centers:\"\n",
    "print kmeans.cluster_centers_\n",
    "print kmeans.cluster_centers_.shape"
   ]
  },
  {
   "cell_type": "markdown",
   "metadata": {},
   "source": [
    "#### Find the top 10 features for each cluster.\n",
    "For topics we are only really interested in the most present words, i.e. features/dimensions with the greatest representation in the centroid.  Print out the top ten words for each centroid.\n",
    "\n",
    "* Sort each centroid vector to find the top 10 features\n",
    "* Go back to your vectorizer object to find out what words each of these features corresponds to.\n"
   ]
  },
  {
   "cell_type": "code",
   "execution_count": 168,
   "metadata": {
    "collapsed": false
   },
   "outputs": [
    {
     "data": {
      "text/plain": [
       "array([[105, 336, 106, 356, 139, 775, 640, 322, 364, 441],\n",
       "       [ 72,  25, 935, 640, 322, 497, 771, 218, 933, 457],\n",
       "       [144, 332, 356, 322, 882, 716, 640, 596, 364, 218],\n",
       "       [356, 322, 640, 470, 689, 441, 771, 562, 596, 890],\n",
       "       [638, 198, 640, 356, 364, 793, 139,  72, 595, 470],\n",
       "       [860, 725, 724, 640, 364,  51, 330, 771, 356, 261],\n",
       "       [364, 322, 771, 640, 356,  49, 334,  40, 825, 890],\n",
       "       [322, 595, 536, 890, 771, 441, 119, 862, 358,  37]])"
      ]
     },
     "execution_count": 168,
     "metadata": {},
     "output_type": "execute_result"
    }
   ],
   "source": [
    "# To be implemented\n",
    "top_centroids = kmeans.cluster_centers_.argsort()[:,-1:-11:-1]\n",
    "top_centroids"
   ]
  },
  {
   "cell_type": "code",
   "execution_count": 169,
   "metadata": {
    "collapsed": false
   },
   "outputs": [
    {
     "name": "stdout",
     "output_type": "stream",
     "text": [
      "top features for each cluster:\n",
      "0: burger, fries, burgers, good, cheese, shake, place, food, great, just\n",
      "1: best, amazing, vegas, place, food, love, service, delicious, ve, las\n",
      "2: chicken, fried, good, food, thai, rice, place, ordered, great, delicious\n",
      "3: good, food, place, like, really, just, service, nice, ordered, time\n",
      "4: pizza, crust, place, good, great, slice, cheese, best, order, like\n",
      "5: sushi, rolls, roll, place, great, ayce, fresh, service, good, eat\n",
      "6: great, food, service, place, good, awesome, friendly, atmosphere, staff, time\n",
      "7: food, order, minutes, time, service, just, came, table, got, asked\n"
     ]
    }
   ],
   "source": [
    "print \"top features for each cluster:\"\n",
    "for num, centroid in enumerate(top_centroids):\n",
    "    print \"%d: %s\" % (num, \", \".join(vocab[i] for i in centroid))"
   ]
  },
  {
   "cell_type": "markdown",
   "metadata": {},
   "source": [
    "#### Try different k\n",
    "If you set k == to a different number, how does the top features change?"
   ]
  },
  {
   "cell_type": "code",
   "execution_count": 170,
   "metadata": {
    "collapsed": false
   },
   "outputs": [
    {
     "data": {
      "text/plain": [
       "KMeans(algorithm='auto', copy_x=True, init='k-means++', max_iter=300,\n",
       "    n_clusters=5, n_init=10, n_jobs=1, precompute_distances='auto',\n",
       "    random_state=None, tol=0.0001, verbose=0)"
      ]
     },
     "execution_count": 170,
     "metadata": {},
     "output_type": "execute_result"
    }
   ],
   "source": [
    "# To be implemented\n",
    "kmeans = KMeans(n_clusters=5)\n",
    "\n",
    "kmeans.fit(train_vectors)"
   ]
  },
  {
   "cell_type": "code",
   "execution_count": 171,
   "metadata": {
    "collapsed": false
   },
   "outputs": [
    {
     "name": "stdout",
     "output_type": "stream",
     "text": [
      "cluster centers:\n",
      "[[ 0.00279838  0.00707944  0.00163985 ...,  0.00165575  0.00267186\n",
      "   0.00879909]\n",
      " [ 0.00425447  0.01572545  0.00309208 ...,  0.0031685   0.00092617\n",
      "   0.00249052]\n",
      " [ 0.00151011  0.0045272   0.00226846 ...,  0.0008933   0.00234304\n",
      "   0.00835076]\n",
      " [ 0.00095077  0.00416154  0.00107549 ...,  0.00132477  0.00280535\n",
      "   0.00721529]\n",
      " [ 0.00203628  0.00560123  0.00210001 ...,  0.00117714  0.00465785\n",
      "   0.00779937]]\n",
      "(5, 1000)\n",
      "top features for each cluster:\n",
      "0: pizza, crust, place, good, great, slice, cheese, best, order, just\n",
      "1: food, just, order, time, burger, like, service, got, good, place\n",
      "2: sushi, roll, rolls, place, great, ayce, fresh, service, good, eat\n",
      "3: great, food, service, place, good, amazing, awesome, love, friendly, staff\n",
      "4: good, food, place, best, vegas, chicken, delicious, service, amazing, love\n"
     ]
    }
   ],
   "source": [
    "print \"cluster centers:\"\n",
    "print kmeans.cluster_centers_\n",
    "print kmeans.cluster_centers_.shape\n",
    "top_centroids = kmeans.cluster_centers_.argsort()[:,-1:-11:-1]\n",
    "top_centroids\n",
    "print \"top features for each cluster:\"\n",
    "for num, centroid in enumerate(top_centroids):\n",
    "    print \"%d: %s\" % (num, \", \".join(vocab[i] for i in centroid))"
   ]
  },
  {
   "cell_type": "markdown",
   "metadata": {},
   "source": [
    "#### Print out the rating and review of a random sample of the reviews assigned to each cluster to get a sense of the cluster."
   ]
  },
  {
   "cell_type": "code",
   "execution_count": 175,
   "metadata": {
    "collapsed": false
   },
   "outputs": [
    {
     "name": "stdout",
     "output_type": "stream",
     "text": [
      "#######cluster__0:\n",
      "  4----:     \n",
      "   Tiny little pizza place in the Cosmo, right across from STK.  If you don't know it's there, you'll never find it. Stopped by here for a midnight snack.  We got a full pizza with pepperoni, sausage, and mushroom. I don't know what they do to it, but it was really tasty pizza.  Not super thin crust, but also not too thick and bready.   A good amount of toppings too.  Expensive for a hole in the wall pizza place though.  It's $30 for a large pizza and 3 toppings.\n",
      "  5----:     \n",
      "   This place has been around for as long as I can remember. It's in a pretty bare shopping center on Jones/95. A dive bar in the front, with a restaurant in the back. I like that there is a door that separates the smoky bar from the dining room. I have tried a lot of food here, what I like the most is definitely the pizza. The pizza's are sicilian style, with a thick, buttery crust that's cut into 8 squares. One of the pizza's they offer has 7 toppings of your choice, so we usually double up on all the ones we like, and ask for the pizza well done. It comes out excellent every time. Don't forget to ask for a few sides of their delicious homemade ranch for dipping. I also like the cajun fries, which are just fries tossed in hot sauce, but they are pretty tasty. Pro tip: All pizza's are 1/2 price after midnight. If you haven't been here yet, do yourself a favor and check it out.\n",
      "#######cluster__1:\n",
      "  5----:     \n",
      "   We ate here on a Sunday morning & again on a Wednesday morning. Their burgers are excellent, even if the cooking was inconsistent. I'd ordered both of my burgers medium-rare, but the first was barely pink inside. My second burger was very pink - perfect!. I also enjoyed their tater tots, and their bacon bloody mary with both meals. Our first visit here, around 10:30 am on a Sunday, was pleasant. We had an attentive server who seemed to be in a good mood. The service on our second visit, however, during a busy Wednesday morning, was laughable. Paul actually seemed to hate his job. Even though I requested no onions, my burger arrived with onions. When someone at my table mentioned that to Paul, he half-heartedly apologized, with no offer to make it right in any way. THEN, another table-mate realized he never got his sweet potato fries, and Paul's response was that we would only be charged for the food that we had on the table. He did not offer to bring out another order of sweet potato fries. I honestly can't remember another recent encounter with such an indifferent server. Although I wasn't paying the bill (nearly $450 for our table), I made sure no additional gratuity was added to the bill on top of the automatic 18% for our group size. I certainly hope Paul realizes very soon that waiting tables isn't his thing, & finds a job that doesn't involve public interaction. Again, the burgers were very good, and I WILL eat here again.\n",
      "  4----:     \n",
      "   First time trying out this place. We found them in Groupon. At first the place looks scary coz of the area. BUT omg can i just say one of the best customer service ever they close at 3pm we got there at 2:58 and they still took our order the guy that made our sandwich was so nice about it and they way he made our sandwich not rushed or didnt even saw a hint that he was irritated since its time for him to go home. We even met the owner and their sandwich is the BOMB! I totally recommend this place.\n",
      "#######cluster__2:\n",
      "  5----:     \n",
      "   This is by far my favorite sushi in Vegas.  Great fresh fish,  good beer/sake selection and great service.  I highly recommend\n",
      "  4----:     \n",
      "   I wouldn't come to this place pass 10, they don't want your business. Sometimes I wonder what places expect to do during their last hour of business. Do you want to make money? Or is it your clean up time? If so then change your hours because I believe you should service a customer fully if they are in your restaurant in time. But hey, that's just me.\n",
      "\n",
      "Sushi places are a dime a dozen. You could literally eat at a new place once a week and who knows when you'll try them all. The sushi here is okay. Not bad, but not amazing. They don't offer anything original to them. I went here for convenience but I don't like feeling like an inconvenience.\n",
      "#######cluster__3:\n",
      "  1----:     \n",
      "   If you love Korean food, this is the place to go! Cool place to hang out. Open late, food is good. Customer service is ok\n",
      "  5----:     \n",
      "   Classic Benny was great. our server Paula was fantastic! This was our first time there. But we did come back for breakfast two days later. Great food, great service. Loved the patio. Recommend for breakfast anytime. Thanks for making our time in Vegas a great one\n",
      "#######cluster__4:\n",
      "  4----:     \n",
      "   We were lucky to catch this place at a food truck event at Sunset Park one time, some time ago. YUMMY food! This was the best in the food truck arena, in my opinion (I've tried a few). I had the teriyaki dish and so did my husband. I love fusion food (but sadly, some miss the mark). Not this one! I've tried a few and I've got my favorites. This place easily falls into the category of \"my favorites.\"\n",
      "\n",
      "The quality of the ingredients is important. Isn't it terrible when you get a stir-fry dish that has mushy veggies? Not the case here. I like my stir-fry veggies crisp-tender. The flavors are equally important. What I mean by this, is that they all have to come together, and not overpower each other, if that makes any sense. If there's too much sauce, then it's too sweet, ya know? The portion size is also important (lots of food trucks are pretty skimpy). It was a good size, satisfying and substantial. The price is also a factor. It wasn't breaking the bank (some food trucks are outrageous). Oh, and the wait wasn't too bad, either. So, when all of these, are on point, you really take notice, and the lasting impression/ memory is enough to try to follow up and try to catch this food truck at another event. (Note: I really did take my time to enjoy and savor this yumminess, because I didn't want to rush through it.) \n",
      "\n",
      "We really want to have this yummy teriyaki dish again (Hubby loved it too!!!)! I think I need to check out their website again very soon.\n",
      "  1----:     \n",
      "   This restaurant is delicious and is very cost effective (especially for Las Vegas standards). I actually came here by myself while attending a conference and liked it so much that when my boyfriend joined me for the weekend we went back here. The Chicken Tinga Empanada is amazing, should be your first choice tapa! The patatas bravas are classic. Got a strawberry mojito too, which I would also recommend. Ambiance and service are good too...aka you should definitely go here for dinner.\n"
     ]
    }
   ],
   "source": [
    "# To be implemented\n",
    "assigned_cluster = kmeans.predict(train_vectors)\n",
    "for i in range(kmeans.n_clusters):\n",
    "    cluster = np.arange(0, train_vectors.shape[0])[assigned_cluster==i]\n",
    "    sample_reviews = np.random.choice(cluster, 2, replace=False)\n",
    "    print \"#######cluster__%d:\" % i\n",
    "    for review in sample_reviews:\n",
    "        print \"  %d----: \" % df['stars'].values[review],\n",
    "        print \"   \"\n",
    "        print \"   %s\" % documents_train[review]\n",
    "        "
   ]
  },
  {
   "cell_type": "markdown",
   "metadata": {},
   "source": [
    "## 2. Cluster all the reviews of the most reviewed restaurant\n",
    "Let's find the most reviewed restaurant and analyze its reviews"
   ]
  },
  {
   "cell_type": "code",
   "execution_count": 176,
   "metadata": {
    "collapsed": false
   },
   "outputs": [
    {
     "name": "stderr",
     "output_type": "stream",
     "text": [
      "/Users/sunnywang/anaconda/lib/python2.7/site-packages/ipykernel/__main__.py:3: FutureWarning: sort(columns=....) is deprecated, use sort_values(by=.....)\n",
      "  app.launch_new_instance()\n"
     ]
    }
   ],
   "source": [
    "# Find the business who got most reviews, get your filtered df, name it df_top_restaurant\n",
    "#df.groupby('business_id').sum().sort(\"count\",ascending=False)\n",
    "sort_review=df.groupby('business_id').sum().sort(\"count\",ascending=False)\n",
    "top_id=sort_review.index[0]\n",
    "df_top_restaurant=df[df['business_id']==top_id]\n"
   ]
  },
  {
   "cell_type": "markdown",
   "metadata": {},
   "source": [
    "We can also load restaurant profile information from the business dataset (optional)"
   ]
  },
  {
   "cell_type": "code",
   "execution_count": 177,
   "metadata": {
    "collapsed": true
   },
   "outputs": [],
   "source": [
    "# Load business dataset (optional)\n",
    "# Take a look at the most reviewed restaurant's profile (optional)\n",
    "pass"
   ]
  },
  {
   "cell_type": "markdown",
   "metadata": {},
   "source": [
    "### Vectorize the text feature"
   ]
  },
  {
   "cell_type": "code",
   "execution_count": 178,
   "metadata": {
    "collapsed": true
   },
   "outputs": [],
   "source": [
    "# Take the values of the column that contains review text data, save to a variable named \"documents_top_restaurant\"\n",
    "documents_top_restaurant=df_top_restaurant[\"text\"].values"
   ]
  },
  {
   "cell_type": "markdown",
   "metadata": {},
   "source": [
    "### Define your target variable (for later classification use)"
   ]
  },
  {
   "cell_type": "markdown",
   "metadata": {},
   "source": [
    "#### Again, we look at perfect (5 stars) and imperfect (1-4 stars) rating"
   ]
  },
  {
   "cell_type": "code",
   "execution_count": 179,
   "metadata": {
    "collapsed": false
   },
   "outputs": [
    {
     "name": "stderr",
     "output_type": "stream",
     "text": [
      "/Users/sunnywang/anaconda/lib/python2.7/site-packages/ipykernel/__main__.py:2: SettingWithCopyWarning: \n",
      "A value is trying to be set on a copy of a slice from a DataFrame.\n",
      "Try using .loc[row_indexer,col_indexer] = value instead\n",
      "\n",
      "See the caveats in the documentation: http://pandas.pydata.org/pandas-docs/stable/indexing.html#indexing-view-versus-copy\n",
      "  from ipykernel import kernelapp as app\n",
      "/Users/sunnywang/anaconda/lib/python2.7/site-packages/ipykernel/__main__.py:3: SettingWithCopyWarning: \n",
      "A value is trying to be set on a copy of a slice from a DataFrame.\n",
      "Try using .loc[row_indexer,col_indexer] = value instead\n",
      "\n",
      "See the caveats in the documentation: http://pandas.pydata.org/pandas-docs/stable/indexing.html#indexing-view-versus-copy\n",
      "  app.launch_new_instance()\n"
     ]
    },
    {
     "data": {
      "text/plain": [
       "array([1, 1, 1, ..., 0, 1, 1])"
      ]
     },
     "execution_count": 179,
     "metadata": {},
     "output_type": "execute_result"
    }
   ],
   "source": [
    "# To be implemented\n",
    "df_top_restaurant['perfectscore']=(df_top_restaurant['stars']>4)\n",
    "df_top_restaurant['perfectscore']=df_top_restaurant['perfectscore'] * 1\n",
    "top_target=df_top_restaurant['perfectscore'].values\n",
    "top_target"
   ]
  },
  {
   "cell_type": "markdown",
   "metadata": {},
   "source": [
    "#### Check the statistic of the target variable"
   ]
  },
  {
   "cell_type": "code",
   "execution_count": 180,
   "metadata": {
    "collapsed": false
   },
   "outputs": [
    {
     "data": {
      "text/plain": [
       "array([1, 1, 1, 1, 1, 1, 1, 0, 0])"
      ]
     },
     "execution_count": 180,
     "metadata": {},
     "output_type": "execute_result"
    }
   ],
   "source": [
    "# To be implemented\n",
    "top_target[1:10]"
   ]
  },
  {
   "cell_type": "markdown",
   "metadata": {},
   "source": [
    "### Create training dataset and test dataset"
   ]
  },
  {
   "cell_type": "code",
   "execution_count": 181,
   "metadata": {
    "collapsed": false
   },
   "outputs": [],
   "source": [
    "from sklearn.cross_validation import train_test_split"
   ]
  },
  {
   "cell_type": "code",
   "execution_count": 182,
   "metadata": {
    "collapsed": false
   },
   "outputs": [],
   "source": [
    "# documents_top_restaurant is your X, target_top_restaurant is your y\n",
    "# Now split the data to training set and test set\n",
    "# Now your data is smaller, you can use a typical \"test_size\", e.g. 0.3-0.7\n",
    "top_documents_train, top_documents_test, top_target_train, top_target_test = train_test_split(documents_top_restaurant, top_target, test_size=0.3, random_state=42)\n"
   ]
  },
  {
   "cell_type": "markdown",
   "metadata": {},
   "source": [
    "### Get NLP representation of the documents"
   ]
  },
  {
   "cell_type": "code",
   "execution_count": 183,
   "metadata": {
    "collapsed": true
   },
   "outputs": [],
   "source": [
    "from sklearn.feature_extraction.text import TfidfVectorizer"
   ]
  },
  {
   "cell_type": "code",
   "execution_count": 200,
   "metadata": {
    "collapsed": false
   },
   "outputs": [],
   "source": [
    "# Create TfidfVectorizer, and name it vectorizer\n",
    "vectorizer = TfidfVectorizer(stop_words='english', max_features=1000)"
   ]
  },
  {
   "cell_type": "code",
   "execution_count": 201,
   "metadata": {
    "collapsed": false
   },
   "outputs": [
    {
     "data": {
      "text/plain": [
       "(2810, 1000)"
      ]
     },
     "execution_count": 201,
     "metadata": {},
     "output_type": "execute_result"
    }
   ],
   "source": [
    "# Train the model with your training data\n",
    "train_vectors=vectorizer.fit_transform(top_documents_train).toarray()\n",
    "train_vectors.shape"
   ]
  },
  {
   "cell_type": "code",
   "execution_count": 202,
   "metadata": {
    "collapsed": false
   },
   "outputs": [
    {
     "data": {
      "text/plain": [
       "[u'00',\n",
       " u'10',\n",
       " u'100',\n",
       " u'10pm',\n",
       " u'11',\n",
       " u'12',\n",
       " u'15',\n",
       " u'1am',\n",
       " u'20',\n",
       " u'25',\n",
       " u'2nd',\n",
       " u'30',\n",
       " u'3pm',\n",
       " u'40',\n",
       " u'45',\n",
       " u'50',\n",
       " u'55',\n",
       " u'65',\n",
       " u'6pm',\n",
       " u'95',\n",
       " u'99',\n",
       " u'able',\n",
       " u'absolutely',\n",
       " u'accommodating',\n",
       " u'actually',\n",
       " u'add',\n",
       " u'added',\n",
       " u'adults',\n",
       " u'affordable',\n",
       " u'ago',\n",
       " u'ahead',\n",
       " u'airport',\n",
       " u'ala',\n",
       " u'alot',\n",
       " u'alright',\n",
       " u'amazing',\n",
       " u'ambiance',\n",
       " u'ambience',\n",
       " u'american',\n",
       " u'angeles',\n",
       " u'appetite',\n",
       " u'appetizer',\n",
       " u'appetizers',\n",
       " u'apple',\n",
       " u'apps',\n",
       " u'area',\n",
       " u'aren',\n",
       " u'arrived',\n",
       " u'asian',\n",
       " u'ask',\n",
       " u'asked',\n",
       " u'asking',\n",
       " u'asparagus',\n",
       " u'assortment',\n",
       " u'ate',\n",
       " u'atmosphere',\n",
       " u'attention',\n",
       " u'attentive',\n",
       " u'attitude',\n",
       " u'authentic',\n",
       " u'available',\n",
       " u'average',\n",
       " u'avoid',\n",
       " u'away',\n",
       " u'awesome',\n",
       " u'ayce',\n",
       " u'background',\n",
       " u'bacon',\n",
       " u'bad',\n",
       " u'ban',\n",
       " u'banana',\n",
       " u'banchan',\n",
       " u'banchans',\n",
       " u'bap',\n",
       " u'bar',\n",
       " u'barbecue',\n",
       " u'based',\n",
       " u'basically',\n",
       " u'bay',\n",
       " u'bbq',\n",
       " u'bean',\n",
       " u'beat',\n",
       " u'beautiful',\n",
       " u'beef',\n",
       " u'beer',\n",
       " u'believe',\n",
       " u'belly',\n",
       " u'best',\n",
       " u'better',\n",
       " u'bi',\n",
       " u'bibimbap',\n",
       " u'bibimbop',\n",
       " u'big',\n",
       " u'bigger',\n",
       " u'bim',\n",
       " u'bimbimbap',\n",
       " u'birthday',\n",
       " u'bit',\n",
       " u'bite',\n",
       " u'bland',\n",
       " u'blown',\n",
       " u'bomb',\n",
       " u'booths',\n",
       " u'bowl',\n",
       " u'boyfriend',\n",
       " u'bread',\n",
       " u'break',\n",
       " u'breast',\n",
       " u'bring',\n",
       " u'bringing',\n",
       " u'brisket',\n",
       " u'broccoli',\n",
       " u'brother',\n",
       " u'brought',\n",
       " u'btw',\n",
       " u'bucks',\n",
       " u'buffet',\n",
       " u'bulgogi',\n",
       " u'bulgolgi',\n",
       " u'bunch',\n",
       " u'burn',\n",
       " u'business',\n",
       " u'busy',\n",
       " u'butter',\n",
       " u'cab',\n",
       " u'cake',\n",
       " u'calamari',\n",
       " u'california',\n",
       " u'called',\n",
       " u'came',\n",
       " u'care',\n",
       " u'carpaccio',\n",
       " u'carte',\n",
       " u'cause',\n",
       " u'certainly',\n",
       " u'chan',\n",
       " u'chance',\n",
       " u'change',\n",
       " u'changed',\n",
       " u'charge',\n",
       " u'cheap',\n",
       " u'cheaper',\n",
       " u'check',\n",
       " u'checked',\n",
       " u'checking',\n",
       " u'cheese',\n",
       " u'chewy',\n",
       " u'chi',\n",
       " u'chicken',\n",
       " u'chili',\n",
       " u'chill',\n",
       " u'choice',\n",
       " u'choices',\n",
       " u'choose',\n",
       " u'chose',\n",
       " u'city',\n",
       " u'clean',\n",
       " u'clear',\n",
       " u'close',\n",
       " u'closer',\n",
       " u'coffee',\n",
       " u'cold',\n",
       " u'com',\n",
       " u'combination',\n",
       " u'combo',\n",
       " u'combos',\n",
       " u'come',\n",
       " u'comes',\n",
       " u'comfortable',\n",
       " u'coming',\n",
       " u'compare',\n",
       " u'compared',\n",
       " u'complain',\n",
       " u'complaint',\n",
       " u'completely',\n",
       " u'complimentary',\n",
       " u'concept',\n",
       " u'conference',\n",
       " u'considering',\n",
       " u'constantly',\n",
       " u'convenient',\n",
       " u'cook',\n",
       " u'cooked',\n",
       " u'cooking',\n",
       " u'cool',\n",
       " u'corn',\n",
       " u'cost',\n",
       " u'couldn',\n",
       " u'couple',\n",
       " u'course',\n",
       " u'courteous',\n",
       " u'cozy',\n",
       " u'craving',\n",
       " u'crazy',\n",
       " u'cream',\n",
       " u'crispy',\n",
       " u'crowd',\n",
       " u'crowded',\n",
       " u'crunchy',\n",
       " u'cucumber',\n",
       " u'cucumbers',\n",
       " u'customer',\n",
       " u'customers',\n",
       " u'cut',\n",
       " u'cute',\n",
       " u'cuts',\n",
       " u'cuz',\n",
       " u'date',\n",
       " u'daughter',\n",
       " u'day',\n",
       " u'days',\n",
       " u'deal',\n",
       " u'deals',\n",
       " u'decent',\n",
       " u'decided',\n",
       " u'decor',\n",
       " u'def',\n",
       " u'definitely',\n",
       " u'delicious',\n",
       " u'delish',\n",
       " u'delivered',\n",
       " u'desert',\n",
       " u'despite',\n",
       " u'dessert',\n",
       " u'desserts',\n",
       " u'did',\n",
       " u'didn',\n",
       " u'didnt',\n",
       " u'die',\n",
       " u'diego',\n",
       " u'difference',\n",
       " u'different',\n",
       " u'dining',\n",
       " u'dinner',\n",
       " u'dip',\n",
       " u'dipping',\n",
       " u'disappoint',\n",
       " u'disappointed',\n",
       " u'dish',\n",
       " u'dishes',\n",
       " u'does',\n",
       " u'doesn',\n",
       " u'doing',\n",
       " u'dollars',\n",
       " u'don',\n",
       " u'door',\n",
       " u'dressing',\n",
       " u'dried',\n",
       " u'drink',\n",
       " u'drinks',\n",
       " u'drive',\n",
       " u'duck',\n",
       " u'dumplings',\n",
       " u'dynamite',\n",
       " u'early',\n",
       " u'easily',\n",
       " u'easy',\n",
       " u'eat',\n",
       " u'eaten',\n",
       " u'eating',\n",
       " u'eats',\n",
       " u'edamame',\n",
       " u'edc',\n",
       " u'efficient',\n",
       " u'egg',\n",
       " u'employees',\n",
       " u'end',\n",
       " u'ended',\n",
       " u'enjoy',\n",
       " u'enjoyable',\n",
       " u'enjoyed',\n",
       " u'enoki',\n",
       " u'entire',\n",
       " u'environment',\n",
       " u'especially',\n",
       " u'evening',\n",
       " u'exactly',\n",
       " u'excellent',\n",
       " u'exceptional',\n",
       " u'excited',\n",
       " u'expect',\n",
       " u'expectations',\n",
       " u'expected',\n",
       " u'expecting',\n",
       " u'expensive',\n",
       " u'experience',\n",
       " u'explained',\n",
       " u'extra',\n",
       " u'extremely',\n",
       " u'fabulous',\n",
       " u'fact',\n",
       " u'fair',\n",
       " u'fairly',\n",
       " u'fake',\n",
       " u'families',\n",
       " u'family',\n",
       " u'fan',\n",
       " u'fantastic',\n",
       " u'far',\n",
       " u'fast',\n",
       " u'fatty',\n",
       " u'fave',\n",
       " u'favorite',\n",
       " u'favorites',\n",
       " u'feast',\n",
       " u'fed',\n",
       " u'feed',\n",
       " u'feel',\n",
       " u'feeling',\n",
       " u'felt',\n",
       " u'filet',\n",
       " u'filled',\n",
       " u'filling',\n",
       " u'finally',\n",
       " u'fine',\n",
       " u'finish',\n",
       " u'finished',\n",
       " u'fish',\n",
       " u'fix',\n",
       " u'flat',\n",
       " u'flavor',\n",
       " u'flavored',\n",
       " u'flavorful',\n",
       " u'flavors',\n",
       " u'fondue',\n",
       " u'food',\n",
       " u'foods',\n",
       " u'forever',\n",
       " u'forget',\n",
       " u'forgot',\n",
       " u'forward',\n",
       " u'free',\n",
       " u'fresh',\n",
       " u'friday',\n",
       " u'fried',\n",
       " u'friend',\n",
       " u'friendly',\n",
       " u'friends',\n",
       " u'fun',\n",
       " u'future',\n",
       " u'galbi',\n",
       " u'gang',\n",
       " u'gangnam',\n",
       " u'garlic',\n",
       " u'gave',\n",
       " u'gem',\n",
       " u'generous',\n",
       " u'gets',\n",
       " u'getting',\n",
       " u'girl',\n",
       " u'girlfriend',\n",
       " u'girls',\n",
       " u'given',\n",
       " u'giving',\n",
       " u'glad',\n",
       " u'going',\n",
       " u'gonna',\n",
       " u'good',\n",
       " u'got',\n",
       " u'gotta',\n",
       " u'great',\n",
       " u'green',\n",
       " u'greeted',\n",
       " u'grill',\n",
       " u'grilled',\n",
       " u'grilling',\n",
       " u'grills',\n",
       " u'group',\n",
       " u'groups',\n",
       " u'guess',\n",
       " u'guys',\n",
       " u'gyu',\n",
       " u'half',\n",
       " u'hand',\n",
       " u'hands',\n",
       " u'happy',\n",
       " u'harami',\n",
       " u'hard',\n",
       " u'haven',\n",
       " u'having',\n",
       " u'hawaii',\n",
       " u'heaven',\n",
       " u'help',\n",
       " u'helped',\n",
       " u'helpful',\n",
       " u'hh',\n",
       " u'hidden',\n",
       " u'high',\n",
       " u'highly',\n",
       " u'hit',\n",
       " u'home',\n",
       " u'honest',\n",
       " u'honestly',\n",
       " u'honey',\n",
       " u'hope',\n",
       " u'host',\n",
       " u'hostess',\n",
       " u'hot',\n",
       " u'hotel',\n",
       " u'hour',\n",
       " u'hours',\n",
       " u'house',\n",
       " u'huge',\n",
       " u'hungry',\n",
       " u'husband',\n",
       " u'hut',\n",
       " u'hype',\n",
       " u'ice',\n",
       " u'idea',\n",
       " u'im',\n",
       " u'immediately',\n",
       " u'impressed',\n",
       " u'include',\n",
       " u'included',\n",
       " u'including',\n",
       " u'incredible',\n",
       " u'incredibly',\n",
       " u'individual',\n",
       " u'ingredients',\n",
       " u'inside',\n",
       " u'instead',\n",
       " u'interesting',\n",
       " u'interior',\n",
       " u'inviting',\n",
       " u'iron',\n",
       " u'isn',\n",
       " u'item',\n",
       " u'items',\n",
       " u'ive',\n",
       " u'jalape\\xf1o',\n",
       " u'japanese',\n",
       " u'japchae',\n",
       " u'jin',\n",
       " u'joint',\n",
       " u'joints',\n",
       " u'juicy',\n",
       " u'just',\n",
       " u'kaku',\n",
       " u'kalbi',\n",
       " u'karage',\n",
       " u'kbbq',\n",
       " u'kept',\n",
       " u'kick',\n",
       " u'kids',\n",
       " u'kim',\n",
       " u'kimbap',\n",
       " u'kimchee',\n",
       " u'kimchi',\n",
       " u'kind',\n",
       " u'kinda',\n",
       " u'kinds',\n",
       " u'kitchen',\n",
       " u'knew',\n",
       " u'know',\n",
       " u'kobe',\n",
       " u'korea',\n",
       " u'korean',\n",
       " u'kpop',\n",
       " u'ktown',\n",
       " u'la',\n",
       " u'large',\n",
       " u'las',\n",
       " u'late',\n",
       " u'later',\n",
       " u'lava',\n",
       " u'leave',\n",
       " u'leaving',\n",
       " u'left',\n",
       " u'leftovers',\n",
       " u'legit',\n",
       " u'lemon',\n",
       " u'let',\n",
       " u'lettuce',\n",
       " u'level',\n",
       " u'life',\n",
       " u'light',\n",
       " u'like',\n",
       " u'liked',\n",
       " u'likes',\n",
       " u'liking',\n",
       " u'line',\n",
       " u'list',\n",
       " u'literally',\n",
       " u'little',\n",
       " u'live',\n",
       " u'lived',\n",
       " u'll',\n",
       " u'local',\n",
       " u'locals',\n",
       " u'located',\n",
       " u'location',\n",
       " u'lol',\n",
       " u'long',\n",
       " u'longer',\n",
       " u'look',\n",
       " u'looked',\n",
       " u'looking',\n",
       " u'looks',\n",
       " u'los',\n",
       " u'lot',\n",
       " u'lots',\n",
       " u'love',\n",
       " u'loved',\n",
       " u'lover',\n",
       " u'lovers',\n",
       " u'loves',\n",
       " u'low',\n",
       " u'lunch',\n",
       " u'lv',\n",
       " u'macaron',\n",
       " u'macaroni',\n",
       " u'macaroon',\n",
       " u'macaroons',\n",
       " u'main',\n",
       " u'make',\n",
       " u'makes',\n",
       " u'making',\n",
       " u'mall',\n",
       " u'mango',\n",
       " u'marinade',\n",
       " u'marinated',\n",
       " u'matter',\n",
       " u'maybe',\n",
       " u'meal',\n",
       " u'meals',\n",
       " u'mean',\n",
       " u'meant',\n",
       " u'meat',\n",
       " u'meats',\n",
       " u'medley',\n",
       " u'meet',\n",
       " u'meh',\n",
       " u'melt',\n",
       " u'melts',\n",
       " u'mention',\n",
       " u'menu',\n",
       " u'menus',\n",
       " u'middle',\n",
       " u'mignon',\n",
       " u'min',\n",
       " u'mind',\n",
       " u'mins',\n",
       " u'minute',\n",
       " u'minutes',\n",
       " u'miso',\n",
       " u'miss',\n",
       " u'mix',\n",
       " u'mixed',\n",
       " u'modern',\n",
       " u'money',\n",
       " u'mood',\n",
       " u'mouth',\n",
       " u'multiple',\n",
       " u'mushroom',\n",
       " u'mushrooms',\n",
       " u'music',\n",
       " u'near',\n",
       " u'need',\n",
       " u'needed',\n",
       " u'needs',\n",
       " u'new',\n",
       " u'nice',\n",
       " u'nicely',\n",
       " u'night',\n",
       " u'non',\n",
       " u'noodle',\n",
       " u'noodles',\n",
       " u'normal',\n",
       " u'notch',\n",
       " u'noticed',\n",
       " u'number',\n",
       " u'obviously',\n",
       " u'offer',\n",
       " u'offered',\n",
       " u'offers',\n",
       " u'oh',\n",
       " u'oil',\n",
       " u'ok',\n",
       " u'okay',\n",
       " u'old',\n",
       " u'omg',\n",
       " u'ones',\n",
       " u'onion',\n",
       " u'open',\n",
       " u'opinion',\n",
       " u'option',\n",
       " u'options',\n",
       " u'order',\n",
       " u'ordered',\n",
       " u'ordering',\n",
       " u'orders',\n",
       " u'original',\n",
       " u'outside',\n",
       " u'outstanding',\n",
       " u'overall',\n",
       " u'overcooked',\n",
       " u'overly',\n",
       " u'overpriced',\n",
       " u'oyster',\n",
       " u'oysters',\n",
       " u'package',\n",
       " u'packed',\n",
       " u'paid',\n",
       " u'pancake',\n",
       " u'pancakes',\n",
       " u'paper',\n",
       " u'par',\n",
       " u'parking',\n",
       " u'particularly',\n",
       " u'parties',\n",
       " u'party',\n",
       " u'pass',\n",
       " u'patient',\n",
       " u'pay',\n",
       " u'paying',\n",
       " u'people',\n",
       " u'peppers',\n",
       " u'perfect',\n",
       " u'perfection',\n",
       " u'perfectly',\n",
       " u'person',\n",
       " u'phenomenal',\n",
       " u'pick',\n",
       " u'pickled',\n",
       " u'picky',\n",
       " u'pieces',\n",
       " u'pitcher',\n",
       " u'place',\n",
       " u'places',\n",
       " u'plan',\n",
       " u'plate',\n",
       " u'plates',\n",
       " u'platter',\n",
       " u'play',\n",
       " u'played',\n",
       " u'playing',\n",
       " u'plaza',\n",
       " u'pleasant',\n",
       " u'pleased',\n",
       " u'plentiful',\n",
       " u'plenty',\n",
       " u'plus',\n",
       " u'pm',\n",
       " u'point',\n",
       " u'poki',\n",
       " u'polite',\n",
       " u'poor',\n",
       " u'pop',\n",
       " u'poppers',\n",
       " u'popular',\n",
       " u'pork',\n",
       " u'portion',\n",
       " u'portions',\n",
       " u'post',\n",
       " u'pot',\n",
       " u'ppl',\n",
       " u'prefer',\n",
       " u'premium',\n",
       " u'prepared',\n",
       " u'pretty',\n",
       " u'price',\n",
       " u'priced',\n",
       " u'prices',\n",
       " u'pricey',\n",
       " u'pricing',\n",
       " u'prime',\n",
       " u'private',\n",
       " u'probably',\n",
       " u'problem',\n",
       " u'professional',\n",
       " u'projector',\n",
       " u'prompt',\n",
       " u'promptly',\n",
       " u'proteins',\n",
       " u'provide',\n",
       " u'provided',\n",
       " u'ps',\n",
       " u'quality',\n",
       " u'quantity',\n",
       " u'quick',\n",
       " u'quickly',\n",
       " u'quite',\n",
       " u'radish',\n",
       " u'ramen',\n",
       " u'rate',\n",
       " u'rating',\n",
       " u'raw',\n",
       " u'read',\n",
       " u'ready',\n",
       " u'real',\n",
       " u'really',\n",
       " u'reason',\n",
       " u'reasonable',\n",
       " u'reasonably',\n",
       " u'received',\n",
       " u'recommend',\n",
       " u'recommended',\n",
       " u'red',\n",
       " u'refill',\n",
       " u'refills',\n",
       " u'refreshing',\n",
       " u'regret',\n",
       " u'regular',\n",
       " u'remember',\n",
       " u'reminded',\n",
       " u'reminds',\n",
       " u'request',\n",
       " u'reservation',\n",
       " u'reservations',\n",
       " u'rest',\n",
       " u'restaurant',\n",
       " u'restaurants',\n",
       " u'return',\n",
       " u'returning',\n",
       " u'reverse',\n",
       " u'review',\n",
       " u'reviews',\n",
       " u'rib',\n",
       " u'ribs',\n",
       " u'rice',\n",
       " u'ride',\n",
       " u'right',\n",
       " u'rock',\n",
       " u'room',\n",
       " u'rude',\n",
       " u'rush',\n",
       " u'said',\n",
       " u'sake',\n",
       " u'salad',\n",
       " u'salads',\n",
       " u'salmon',\n",
       " u'salt',\n",
       " u'salty',\n",
       " u'san',\n",
       " u'sandwich',\n",
       " u'sangria',\n",
       " u'sapporo',\n",
       " u'sat',\n",
       " u'satisfied',\n",
       " u'satisfy',\n",
       " u'satisfying',\n",
       " u'saturday',\n",
       " u'sauce',\n",
       " u'sauces',\n",
       " u'save',\n",
       " u'saw',\n",
       " u'say',\n",
       " u'saying',\n",
       " u'says',\n",
       " u'scallops',\n",
       " u'screen',\n",
       " u'sea',\n",
       " u'seafood',\n",
       " u'seasoned',\n",
       " u'seat',\n",
       " u'seated',\n",
       " u'seating',\n",
       " u'seats',\n",
       " u'seaweed',\n",
       " u'second',\n",
       " u'seen',\n",
       " u'selection',\n",
       " u'selections',\n",
       " u'self',\n",
       " u'seller',\n",
       " u'seriously',\n",
       " u'serve',\n",
       " u'served',\n",
       " u'server',\n",
       " u'servers',\n",
       " u'service',\n",
       " u'services',\n",
       " u'serving',\n",
       " u'servings',\n",
       " u'sesame',\n",
       " u'set',\n",
       " u'sets',\n",
       " u'shame',\n",
       " u'share',\n",
       " u'shared',\n",
       " u'shishito',\n",
       " u'shopping',\n",
       " u'short',\n",
       " u'shrimp',\n",
       " u'sides',\n",
       " u'sign',\n",
       " u'similar',\n",
       " u'simple',\n",
       " u'simply',\n",
       " u'single',\n",
       " u'sister',\n",
       " u'sit',\n",
       " u'size',\n",
       " u'sizes',\n",
       " u'skip',\n",
       " u'slice',\n",
       " u'sliced',\n",
       " u'slow',\n",
       " u'small',\n",
       " u'smell',\n",
       " u'smile',\n",
       " u'soft',\n",
       " u'soju',\n",
       " u'solid',\n",
       " u'son',\n",
       " u'soo',\n",
       " u'soon',\n",
       " u'sooo',\n",
       " u'soooo',\n",
       " u'soup',\n",
       " u'soups',\n",
       " u'soy',\n",
       " u'space',\n",
       " u'spacious',\n",
       " u'special',\n",
       " u'specials',\n",
       " u'spectacular',\n",
       " u'spice',\n",
       " u'spicy',\n",
       " u'split',\n",
       " u'spot',\n",
       " u'spots',\n",
       " u'sprouts',\n",
       " u'squash',\n",
       " u'squid',\n",
       " u'ssam',\n",
       " u'staff',\n",
       " u'staffs',\n",
       " u'standard',\n",
       " u'star',\n",
       " u'stars',\n",
       " u'start',\n",
       " u'started',\n",
       " u'starters',\n",
       " u'starving',\n",
       " u'staying',\n",
       " u'steak',\n",
       " u'steam',\n",
       " u'steamed',\n",
       " u'stone',\n",
       " u'stop',\n",
       " u'stopped',\n",
       " u'street',\n",
       " u'strip',\n",
       " u'strongly',\n",
       " u'stuff',\n",
       " u'stuffed',\n",
       " u'style',\n",
       " u'suggest',\n",
       " u'sukiyaki',\n",
       " u'sunday',\n",
       " u'super',\n",
       " u'superb',\n",
       " u'sure',\n",
       " u'surprise',\n",
       " u'surprised',\n",
       " u'surprisingly',\n",
       " u'sushi',\n",
       " u'sweet',\n",
       " u'table',\n",
       " u'tables',\n",
       " u'takes',\n",
       " u'taking',\n",
       " u'tapas',\n",
       " u'taste',\n",
       " u'tasted',\n",
       " u'tastes',\n",
       " u'tasting',\n",
       " u'tasty',\n",
       " u'tea',\n",
       " u'tell',\n",
       " u'tempura',\n",
       " u'tender',\n",
       " u'terrible',\n",
       " u'texture',\n",
       " u'thank',\n",
       " u'thanks',\n",
       " u'thing',\n",
       " u'things',\n",
       " u'think',\n",
       " u'tho',\n",
       " u'thought',\n",
       " u'till',\n",
       " u'time',\n",
       " u'times',\n",
       " u'tiny',\n",
       " u'tip',\n",
       " u'today',\n",
       " u'tofu',\n",
       " u'told',\n",
       " u'ton',\n",
       " u'tongue',\n",
       " u'tonight',\n",
       " u'tons',\n",
       " u'took',\n",
       " u'toro',\n",
       " u'total',\n",
       " u'totally',\n",
       " u'touch',\n",
       " u'tough',\n",
       " u'town',\n",
       " u'traditional',\n",
       " u'tried',\n",
       " u'trip',\n",
       " u'truly',\n",
       " u'try',\n",
       " u'trying',\n",
       " u'tuesday',\n",
       " u'tummy',\n",
       " u'tuna',\n",
       " u'turn',\n",
       " u'turned',\n",
       " u'twice',\n",
       " u'type',\n",
       " u'types',\n",
       " u'typical',\n",
       " u'understand',\n",
       " u'uni',\n",
       " u'unique',\n",
       " u'unless',\n",
       " u'unlimited',\n",
       " u'unlv',\n",
       " u'ur',\n",
       " u'use',\n",
       " u'used',\n",
       " u'usual',\n",
       " u'usually',\n",
       " u'vacation',\n",
       " u'value',\n",
       " u'variety',\n",
       " u'various',\n",
       " u've',\n",
       " u'vegas',\n",
       " u'vegetables',\n",
       " u'vegetarian',\n",
       " u'veggie',\n",
       " u'veggies',\n",
       " u'ventilation',\n",
       " u'vibe',\n",
       " u'vibes',\n",
       " u'videos',\n",
       " u'visit',\n",
       " u'visited',\n",
       " u'visiting',\n",
       " u'wait',\n",
       " u'waited',\n",
       " u'waiter',\n",
       " u'waiters',\n",
       " u'waiting',\n",
       " u'waitress',\n",
       " u'waitresses',\n",
       " u'walk',\n",
       " u'walked',\n",
       " u'wall',\n",
       " u'wanna',\n",
       " u'want',\n",
       " u'wanted',\n",
       " u'warm',\n",
       " u'wasn',\n",
       " u'waste',\n",
       " u'water',\n",
       " u'way',\n",
       " u'week',\n",
       " u'weekend',\n",
       " u'welcoming',\n",
       " u'went',\n",
       " u'weren',\n",
       " u'white',\n",
       " u'wide',\n",
       " u'wife',\n",
       " u'willing',\n",
       " u'wings',\n",
       " u'wish',\n",
       " u'won',\n",
       " u'wonderful',\n",
       " u'wonton',\n",
       " u'wontons',\n",
       " u'word',\n",
       " u'work',\n",
       " u'worked',\n",
       " u'worker',\n",
       " u'workers',\n",
       " u'working',\n",
       " u'worst',\n",
       " u'worth',\n",
       " u'wouldn',\n",
       " u'wow',\n",
       " u'wrapped',\n",
       " u'write',\n",
       " u'writing',\n",
       " u'wrong',\n",
       " u'year',\n",
       " u'years',\n",
       " u'yelp',\n",
       " u'yelpers',\n",
       " u'yes',\n",
       " u'york',\n",
       " u'yum',\n",
       " u'yummy',\n",
       " u'yuzu']"
      ]
     },
     "execution_count": 202,
     "metadata": {},
     "output_type": "execute_result"
    }
   ],
   "source": [
    "# Get the vocab of your tfidf\n",
    "vocab=vectorizer.get_feature_names()\n",
    "vocab"
   ]
  },
  {
   "cell_type": "code",
   "execution_count": 205,
   "metadata": {
    "collapsed": true
   },
   "outputs": [],
   "source": [
    "# Use the trained model to transform the test data\n",
    "Y_test=top_target_test\n",
    "X_test=vectorizer.transform(top_documents_test).toarray()"
   ]
  },
  {
   "cell_type": "code",
   "execution_count": 206,
   "metadata": {
    "collapsed": false
   },
   "outputs": [],
   "source": [
    "# Use the trained model to transform all the data\n",
    "alldata_vectors=vectorizer.transform(documents_top_restaurant)"
   ]
  },
  {
   "cell_type": "markdown",
   "metadata": {},
   "source": [
    "### Cluster reviews with KMeans"
   ]
  },
  {
   "cell_type": "markdown",
   "metadata": {},
   "source": [
    "#### Fit k-means clustering on the training vectors and make predictions on all data"
   ]
  },
  {
   "cell_type": "code",
   "execution_count": 207,
   "metadata": {
    "collapsed": false
   },
   "outputs": [
    {
     "data": {
      "text/plain": [
       "KMeans(algorithm='auto', copy_x=True, init='k-means++', max_iter=300,\n",
       "    n_clusters=8, n_init=10, n_jobs=1, precompute_distances='auto',\n",
       "    random_state=None, tol=0.0001, verbose=0)"
      ]
     },
     "execution_count": 207,
     "metadata": {},
     "output_type": "execute_result"
    }
   ],
   "source": [
    "# To be implemented\n",
    "from sklearn.cluster import KMeans\n",
    "\n",
    "kmeans = KMeans()\n",
    "\n",
    "kmeans.fit(train_vectors)"
   ]
  },
  {
   "cell_type": "markdown",
   "metadata": {},
   "source": [
    "#### Make predictions on all your data"
   ]
  },
  {
   "cell_type": "code",
   "execution_count": 208,
   "metadata": {
    "collapsed": false
   },
   "outputs": [
    {
     "data": {
      "text/plain": [
       "array([2, 4, 1, ..., 0, 2, 2], dtype=int32)"
      ]
     },
     "execution_count": 208,
     "metadata": {},
     "output_type": "execute_result"
    }
   ],
   "source": [
    "# To be implemented\n",
    "kmeans.predict(alldata_vectors)"
   ]
  },
  {
   "cell_type": "markdown",
   "metadata": {},
   "source": [
    "#### Inspect the centroids"
   ]
  },
  {
   "cell_type": "code",
   "execution_count": 209,
   "metadata": {
    "collapsed": false
   },
   "outputs": [
    {
     "name": "stdout",
     "output_type": "stream",
     "text": [
      "cluster centers:\n",
      "[[  1.15162648e-03   7.01059423e-03   2.51601212e-03 ...,   5.88318864e-03\n",
      "    1.07279973e-02   9.30864360e-04]\n",
      " [  6.08144416e-04   1.15631272e-02   1.13654053e-03 ...,   8.06404405e-03\n",
      "    1.05012330e-02  -4.22838847e-18]\n",
      " [ -6.17995238e-18   5.15008344e-03   2.81892565e-18 ...,  -6.07153217e-18\n",
      "    5.80265195e-03   6.33919911e-04]\n",
      " ..., \n",
      " [  1.72494532e-03   4.84539043e-03   1.81297187e-03 ...,   2.67779908e-03\n",
      "    1.28886011e-02   2.31737578e-03]\n",
      " [  1.82901087e-03   5.96988768e-03   3.85319087e-03 ...,   1.34441069e-17\n",
      "    3.55023478e-03  -2.05998413e-18]\n",
      " [ -5.20417043e-18   6.58904548e-04   2.60208521e-18 ...,   4.19378874e-03\n",
      "    7.38433116e-03   1.55754259e-03]]\n",
      "(8, 1000)\n"
     ]
    },
    {
     "data": {
      "text/plain": [
       "array([[325, 627, 770, 218, 357, 217, 944, 528, 360, 166],\n",
       "       [375, 399, 360, 325, 357, 627, 770,  64, 129, 217],\n",
       "       [360, 325, 770, 627,  55,  35, 217, 166, 218, 932],\n",
       "       [527, 504, 503, 588, 360, 357, 358, 164, 325, 217],\n",
       "       [883, 166, 325, 770, 360, 627, 217, 932, 357, 169],\n",
       "       [818, 650, 438, 148,  86,  83, 456, 357, 665, 117],\n",
       "       [ 87, 456,  79, 932, 461, 931, 325, 360, 627, 770],\n",
       "       [357, 690, 627, 325, 770, 561, 456,  79, 677, 695]])"
      ]
     },
     "execution_count": 209,
     "metadata": {},
     "output_type": "execute_result"
    }
   ],
   "source": [
    "# To be implemented\n",
    "print \"cluster centers:\"\n",
    "print kmeans.cluster_centers_\n",
    "print kmeans.cluster_centers_.shape\n",
    "top_centroids = kmeans.cluster_centers_.argsort()[:,-1:-11:-1]\n",
    "top_centroids\n"
   ]
  },
  {
   "cell_type": "markdown",
   "metadata": {},
   "source": [
    "#### Find the top 10 features for each cluster."
   ]
  },
  {
   "cell_type": "code",
   "execution_count": 210,
   "metadata": {
    "collapsed": false
   },
   "outputs": [
    {
     "name": "stdout",
     "output_type": "stream",
     "text": [
      "top features for each cluster:\n",
      "0: food, place, service, delicious, good, definitely, wait, meats, great, come\n",
      "1: happy, hour, great, food, good, place, service, awesome, came, definitely\n",
      "2: great, food, service, place, atmosphere, amazing, definitely, come, delicious, vegas\n",
      "3: meat, lovers, lover, ordered, great, good, got, combo, food, definitely\n",
      "4: time, come, food, service, great, place, definitely, vegas, good, coming\n",
      "5: spicy, pork, kalbi, chicken, belly, beef, korean, good, prime, bulgogi\n",
      "6: best, korean, bbq, vegas, las, ve, food, great, place, service\n",
      "7: good, really, place, food, service, nice, korean, bbq, quality, recommend\n"
     ]
    }
   ],
   "source": [
    "# To be implemented\n",
    "print \"top features for each cluster:\"\n",
    "for num, centroid in enumerate(top_centroids):\n",
    "    print \"%d: %s\" % (num, \", \".join(vocab[i] for i in centroid))"
   ]
  },
  {
   "cell_type": "markdown",
   "metadata": {},
   "source": [
    "#### Print out the rating and review of a random sample of the reviews assigned to each cluster to get a sense of the cluster."
   ]
  },
  {
   "cell_type": "code",
   "execution_count": 211,
   "metadata": {
    "collapsed": false
   },
   "outputs": [
    {
     "data": {
      "text/plain": [
       "5"
      ]
     },
     "execution_count": 211,
     "metadata": {},
     "output_type": "execute_result"
    }
   ],
   "source": [
    "df_top_restaurant[\"stars\"].values[1]\n",
    "                 "
   ]
  },
  {
   "cell_type": "code",
   "execution_count": 212,
   "metadata": {
    "collapsed": false
   },
   "outputs": [
    {
     "name": "stdout",
     "output_type": "stream",
     "text": [
      "###cluster__0:\n",
      "  5----:     Ordered the Gangnam combo and pretty much ate everything that had come out. \n",
      "\n",
      " Pros\n",
      "My favorite was the Fried calamari and marinated peppers.  \n",
      "\n",
      "Cons\n",
      "Food took a bit longer than expected.  Fresh oysters were not as fresh as I had wanted...keeping fingers crossed for now.\n",
      "\n",
      "Overall this is Vegas and met my standards.\n",
      "  5----:     Awesome place!  The meats were delightful, the Kobe beef was amazing, and the Kobe Ssam was awesome! The service was just right . We will be coming back!\n",
      "###cluster__1:\n",
      "  4----:     Excellent food excellent service especially for happy hour cuz the food and beer is worth the price\n",
      "  5----:     Great food and service. Close to Campus and strip. Love the side dishes. The happy hour promo is great. Delicious ~\n",
      "###cluster__2:\n",
      "  5----:     Solid food, free dessert. I really like the beef noodles.\n",
      "\n",
      "They have a great atmosphere and nice food. Service was fast. Great selection of k-pop.\n",
      "  5----:     Meat on meats!! A great experience here. $65 for two people is a great deal. Will come back again.\n",
      "###cluster__3:\n",
      "  5----:     My boyfriend and I came here for the first time and ordered the meat lover for two. Seems a little pricey, but SO WORTH IT! My new favorite kbbq place. Nice atmosphere and great food for a reasonable price. Way better than an all you can eat place!\n",
      "  5----:     Loved this place! The food was huge portions, we ordered the meat lover for 4, and it could seriously feed 6. I would definitely recommend.\n",
      "###cluster__4:\n",
      "  5----:     Services and food are great. It's worth your time and money here. Highly recommend this place.\n",
      "  5----:     Kobe Sam is so yummm. fantastic！the first time here with frds and we all think the food is amazing！！！definetely wanna come next time\n",
      "###cluster__5:\n",
      "  5----:     We ordered the Korean Prime Kalbi which was my favorite, because it had a lot of flavor. The Salmon with bacon and premium tongue which were equally as good. Then for vegetables we got the broccoli fondue and cheese which was pretty yummy. I would recommend this place.\n",
      "  5----:     One of the best KBBQ places in town. It's pretty far from where we live, but worth the commute. The combos and al a carte options are both reasonably priced and the Korean/Japanese restaurant vibe is awesome. There is K-Pop playing overhead keeping the place upbeat. \n",
      "We ordered the Kobe-style beef, brisket, pork belly, and bulgogi (of course!). It's self-cook entirely which is sometimes hard to keep up with, but love the control so the temp is always to your liking.\n",
      "###cluster__6:\n",
      "  4----:     The best Korean BBQ place in Vegas, first time we been here and everything was great! Food and customer service is excellent! I highly recommend this place! :)\n",
      "  4----:     Great customer service, very friendly and welcoming!! Definitely one of the best Korean Bbq places I have been at in Las Vegas. I love the spicy tuna sushi and Korean prime Kalbi I get that all the time along with the beef torro. Coming here again!!!!\n",
      "###cluster__7:\n",
      "  5----:     Very good service and delicious food overall \n",
      "It will be a nice meal for family and friends\n",
      "  5----:     This restaurant is the best. It has good price, food, and has good prices. I love the BBQ food. I recommend to anybody that like chicken, pork, and lamb.\n"
     ]
    }
   ],
   "source": [
    "# To be implemented\n",
    "assigned_cluster = kmeans.predict(train_vectors)\n",
    "for i in range(kmeans.n_clusters):\n",
    "    cluster = np.arange(0, train_vectors.shape[0])[assigned_cluster==i]\n",
    "    sample_reviews = np.random.choice(cluster, 2, replace=False)\n",
    "    print \"###cluster__%d:\" % i\n",
    "    for review in sample_reviews:\n",
    "        print \"  %d----: \" % df_top_restaurant['stars'].values[review],\n",
    "        print \"   %s\" % top_documents_train[review]\n",
    "        "
   ]
  },
  {
   "cell_type": "markdown",
   "metadata": {},
   "source": [
    "## 3. Use PCA to reduce dimensionality"
   ]
  },
  {
   "cell_type": "markdown",
   "metadata": {},
   "source": [
    "### Stardardize features\n",
    "Your X_train and X_test"
   ]
  },
  {
   "cell_type": "code",
   "execution_count": 233,
   "metadata": {
    "collapsed": false,
    "scrolled": true
   },
   "outputs": [],
   "source": [
    "y_test=target_test1\n",
    "x_test=test_vectors1\n",
    "x_train=train_vectors1\n",
    "y_train=target_train1"
   ]
  },
  {
   "cell_type": "code",
   "execution_count": 234,
   "metadata": {
    "collapsed": false
   },
   "outputs": [
    {
     "data": {
      "text/plain": [
       "((104286, 1000), (243333, 1000))"
      ]
     },
     "execution_count": 234,
     "metadata": {},
     "output_type": "execute_result"
    }
   ],
   "source": [
    "x_test.shape, x_train.shape"
   ]
  },
  {
   "cell_type": "code",
   "execution_count": 235,
   "metadata": {
    "collapsed": false
   },
   "outputs": [],
   "source": [
    "from sklearn.preprocessing import StandardScaler\n",
    "\n",
    "# To be implemented\n",
    "scaler=StandardScaler()\n",
    "X_train_scaled=scaler.fit_transform(x_train)\n",
    "X_test_scaled=scaler.transform(x_test)\n"
   ]
  },
  {
   "cell_type": "markdown",
   "metadata": {},
   "source": [
    "### Use PCA to transform data (train and test) and get princial components"
   ]
  },
  {
   "cell_type": "code",
   "execution_count": 236,
   "metadata": {
    "collapsed": false,
    "scrolled": true
   },
   "outputs": [
    {
     "data": {
      "text/plain": [
       "(243333, 50)"
      ]
     },
     "execution_count": 236,
     "metadata": {},
     "output_type": "execute_result"
    }
   ],
   "source": [
    "from sklearn.decomposition import PCA\n",
    "\n",
    "# Let's pick a n_components\n",
    "n_components = 50\n",
    "\n",
    "# To be implemented\n",
    "pca = PCA(n_components)\n",
    "\n",
    "train_components = pca.fit_transform(X_train_scaled)\n",
    "test_components = pca.transform(X_test_scaled)\n",
    "train_components.shape"
   ]
  },
  {
   "cell_type": "code",
   "execution_count": 237,
   "metadata": {
    "collapsed": false
   },
   "outputs": [
    {
     "data": {
      "text/plain": [
       "(50, 1000)"
      ]
     },
     "execution_count": 237,
     "metadata": {},
     "output_type": "execute_result"
    }
   ],
   "source": [
    "pca.components_.shape"
   ]
  },
  {
   "cell_type": "markdown",
   "metadata": {},
   "source": [
    "### See how much (and how much percentage of) variance the principal components explain"
   ]
  },
  {
   "cell_type": "code",
   "execution_count": 238,
   "metadata": {
    "collapsed": false
   },
   "outputs": [
    {
     "name": "stdout",
     "output_type": "stream",
     "text": [
      "[ 5.50698022  4.42841682  3.26813021  2.90283008  2.78806977  2.68706694\n",
      "  2.54215919  2.44903779  2.36635725  2.29755075  2.2752472   2.20846781\n",
      "  2.14792386  2.07853838  1.9972868   1.98648539  1.93761143  1.90152913\n",
      "  1.88339629  1.86008721]\n"
     ]
    }
   ],
   "source": [
    "# To be implemented\n",
    "print pca.explained_variance_[:20]"
   ]
  },
  {
   "cell_type": "code",
   "execution_count": 239,
   "metadata": {
    "collapsed": false
   },
   "outputs": [
    {
     "name": "stdout",
     "output_type": "stream",
     "text": [
      "[ 0.00550698  0.00442842  0.00326813  0.00290283  0.00278807  0.00268707\n",
      "  0.00254216  0.00244904  0.00236636  0.00229755  0.00227525  0.00220847\n",
      "  0.00214792  0.00207854  0.00199729  0.00198649  0.00193761  0.00190153\n",
      "  0.0018834   0.00186009]\n"
     ]
    }
   ],
   "source": [
    "# To be implemented\n",
    "print pca.explained_variance_ratio_[:20]"
   ]
  },
  {
   "cell_type": "markdown",
   "metadata": {},
   "source": [
    "### Viz: plot proportion of variance explained with top principal components\n",
    "\n",
    "For clear display, you may start with plotting <=20 principal components"
   ]
  },
  {
   "cell_type": "code",
   "execution_count": 240,
   "metadata": {
    "collapsed": false
   },
   "outputs": [
    {
     "data": {
      "text/plain": [
       "<matplotlib.text.Text at 0x114da8190>"
      ]
     },
     "execution_count": 240,
     "metadata": {},
     "output_type": "execute_result"
    },
    {
     "data": {
      "image/png": "[encoded data removed]",
      "text/plain": [
       "<matplotlib.figure.Figure at 0x125e4b8d0>"
      ]
     },
     "metadata": {},
     "output_type": "display_data"
    }
   ],
   "source": [
    "import matplotlib.pyplot as plt\n",
    "%matplotlib inline\n",
    "plt.style.use(\"ggplot\")\n",
    "\n",
    "# To be implemented\n",
    "\n",
    "pca_range = np.arange(n_components) + 1\n",
    "\n",
    "pca_names = ['PCA_%s' % i for i in pca_range]\n",
    "\n",
    "plt.bar(pca_range, pca.explained_variance_ratio_, align='center')\n",
    "\n",
    "xticks = plt.xticks(pca_range, pca_names, rotation=90)\n",
    "\n",
    "plt.ylabel('Variance Explained')"
   ]
  },
  {
   "cell_type": "markdown",
   "metadata": {},
   "source": [
    "## Classifying positive/negative review with PCA preprocessing"
   ]
  },
  {
   "cell_type": "markdown",
   "metadata": {},
   "source": [
    "### Logistic Regression Classifier\n",
    "#### Use standardized tf-idf vectors as features"
   ]
  },
  {
   "cell_type": "code",
   "execution_count": null,
   "metadata": {
    "collapsed": false
   },
   "outputs": [],
   "source": [
    "# Build a Logistic Regression Classifier, train with standardized tf-idf vectors\n",
    "\n",
    "from sklearn.linear_model import LogisticRegression\n",
    "\n",
    "# To be implemented\n",
    "from sklearn.linear_model import LogisticRegression\n",
    "model_lrc=LogisticRegression()\n",
    "model_lrc.fit(X_train_scaled, y_train)"
   ]
  },
  {
   "cell_type": "code",
   "execution_count": null,
   "metadata": {
    "collapsed": false
   },
   "outputs": [],
   "source": [
    "# Get score for training set\n",
    "model_lrc.score(X_train_scaled, y_train)"
   ]
  },
  {
   "cell_type": "code",
   "execution_count": null,
   "metadata": {
    "collapsed": false,
    "scrolled": true
   },
   "outputs": [],
   "source": [
    "# Get score for test set\n",
    "model_lrc.score(X_test_scaled, y_test)"
   ]
  },
  {
   "cell_type": "markdown",
   "metadata": {},
   "source": [
    "#### Use (Stardardized + PCA) tf-idf vectors as features"
   ]
  },
  {
   "cell_type": "code",
   "execution_count": null,
   "metadata": {
    "collapsed": false
   },
   "outputs": [],
   "source": [
    "# Build a Logistic Regression Classifier, train with PCA tranformed X\n",
    "\n",
    "from sklearn.linear_model import LogisticRegression\n",
    "\n",
    "# To be implemented\n",
    "model_lrc=LogisticRegression()\n",
    "model_lrc.fit(train_components, y_train)"
   ]
  },
  {
   "cell_type": "code",
   "execution_count": null,
   "metadata": {
    "collapsed": false
   },
   "outputs": [],
   "source": [
    "# Get score for training set\n",
    "model_lrc.score(train_components, y_train)"
   ]
  },
  {
   "cell_type": "code",
   "execution_count": null,
   "metadata": {
    "collapsed": false
   },
   "outputs": [],
   "source": [
    "# Get score for test set, REMEMBER to use PCA-transformed X!\n",
    "model_lrc.score(test_components, y_test)"
   ]
  },
  {
   "cell_type": "markdown",
   "metadata": {},
   "source": [
    "#### Q: What do you see from the training score and the test score? How do you compare the results from PCA and non-PCA preprocessing?"
   ]
  },
  {
   "cell_type": "markdown",
   "metadata": {},
   "source": [
    "A: Difference score between PCA data is smaller than regular data running"
   ]
  },
  {
   "cell_type": "markdown",
   "metadata": {},
   "source": [
    "#### You can plot the coefficients against principal components\n"
   ]
  },
  {
   "cell_type": "code",
   "execution_count": null,
   "metadata": {
    "collapsed": false
   },
   "outputs": [],
   "source": [
    "coeff"
   ]
  },
  {
   "cell_type": "code",
   "execution_count": null,
   "metadata": {
    "collapsed": true
   },
   "outputs": [],
   "source": [
    "PCA=pca_range\n",
    "coeff=model_lrc.coef_[0]\n",
    "daf={'PCA': PCA, 'coeff':coeff}\n",
    "daf=pd.DataFrame(daf)\n",
    "daf"
   ]
  },
  {
   "cell_type": "code",
   "execution_count": null,
   "metadata": {
    "collapsed": false
   },
   "outputs": [],
   "source": [
    "# To be implemented\n",
    "daf.plot(x=\"PCA\", y=\"coeff\", style=\"b\")"
   ]
  },
  {
   "cell_type": "markdown",
   "metadata": {},
   "source": [
    "### Random Forest Classifier\n",
    "#### Use standardized tf-idf vectors as features"
   ]
  },
  {
   "cell_type": "code",
   "execution_count": null,
   "metadata": {
    "collapsed": false
   },
   "outputs": [],
   "source": [
    "# Build a Random Forest Classifier\n",
    "\n",
    "from sklearn.ensemble import RandomForestClassifier\n",
    "\n",
    "# To be implemented\n",
    "model_rfc=RandomForestClassifier()\n",
    "model_rfc.fit(X_train_scaled, y_train)"
   ]
  },
  {
   "cell_type": "code",
   "execution_count": null,
   "metadata": {
    "collapsed": false
   },
   "outputs": [],
   "source": [
    "# Get score for training set\n",
    "model_rfc.score(X_train_scaled, y_train)"
   ]
  },
  {
   "cell_type": "code",
   "execution_count": null,
   "metadata": {
    "collapsed": false,
    "scrolled": true
   },
   "outputs": [],
   "source": [
    "# Get score for test set\n",
    "model_rfc.score(X_test_scaled, y_test)"
   ]
  },
  {
   "cell_type": "markdown",
   "metadata": {},
   "source": [
    "#### Use (Stardardized + PCA) tf-idf vectors as features"
   ]
  },
  {
   "cell_type": "code",
   "execution_count": null,
   "metadata": {
    "collapsed": false
   },
   "outputs": [],
   "source": [
    "# Build a Random Forest Classifier\n",
    "\n",
    "from sklearn.ensemble import RandomForestClassifier\n",
    "\n",
    "# To be implemented\n",
    "model_rfc=RandomForestClassifier()\n",
    "model_rfc.fit(train_components, y_train)"
   ]
  },
  {
   "cell_type": "code",
   "execution_count": null,
   "metadata": {
    "collapsed": false
   },
   "outputs": [],
   "source": [
    "# Get score for training set\n",
    "model_rfc.score(train_components, y_train)"
   ]
  },
  {
   "cell_type": "code",
   "execution_count": null,
   "metadata": {
    "collapsed": false
   },
   "outputs": [],
   "source": [
    "# Get score for test set, REMEMBER to use PCA-transformed X!\n",
    "model_rfc.score(test_components, y_test)"
   ]
  },
  {
   "cell_type": "markdown",
   "metadata": {},
   "source": [
    "#### Q: What do you see from the training result and the test result?"
   ]
  },
  {
   "cell_type": "markdown",
   "metadata": {},
   "source": [
    "A: Looks like Random forest methond with PCA didnt solve overfittinh problem as strongly as Logistic regression"
   ]
  },
  {
   "cell_type": "markdown",
   "metadata": {},
   "source": [
    "#### You can plot the feature importances against principal components\n"
   ]
  },
  {
   "cell_type": "code",
   "execution_count": 149,
   "metadata": {
    "collapsed": false
   },
   "outputs": [
    {
     "data": {
      "text/html": [
       "<div>\n",
       "<table border=\"1\" class=\"dataframe\">\n",
       "  <thead>\n",
       "    <tr style=\"text-align: right;\">\n",
       "      <th></th>\n",
       "      <th>PCA</th>\n",
       "      <th>feature_import</th>\n",
       "    </tr>\n",
       "  </thead>\n",
       "  <tbody>\n",
       "    <tr>\n",
       "      <th>0</th>\n",
       "      <td>1</td>\n",
       "      <td>0.156377</td>\n",
       "    </tr>\n",
       "    <tr>\n",
       "      <th>1</th>\n",
       "      <td>2</td>\n",
       "      <td>0.023822</td>\n",
       "    </tr>\n",
       "    <tr>\n",
       "      <th>2</th>\n",
       "      <td>3</td>\n",
       "      <td>0.063550</td>\n",
       "    </tr>\n",
       "    <tr>\n",
       "      <th>3</th>\n",
       "      <td>4</td>\n",
       "      <td>0.020499</td>\n",
       "    </tr>\n",
       "    <tr>\n",
       "      <th>4</th>\n",
       "      <td>5</td>\n",
       "      <td>0.027723</td>\n",
       "    </tr>\n",
       "    <tr>\n",
       "      <th>5</th>\n",
       "      <td>6</td>\n",
       "      <td>0.041749</td>\n",
       "    </tr>\n",
       "    <tr>\n",
       "      <th>6</th>\n",
       "      <td>7</td>\n",
       "      <td>0.027890</td>\n",
       "    </tr>\n",
       "    <tr>\n",
       "      <th>7</th>\n",
       "      <td>8</td>\n",
       "      <td>0.034670</td>\n",
       "    </tr>\n",
       "    <tr>\n",
       "      <th>8</th>\n",
       "      <td>9</td>\n",
       "      <td>0.016073</td>\n",
       "    </tr>\n",
       "    <tr>\n",
       "      <th>9</th>\n",
       "      <td>10</td>\n",
       "      <td>0.015543</td>\n",
       "    </tr>\n",
       "    <tr>\n",
       "      <th>10</th>\n",
       "      <td>11</td>\n",
       "      <td>0.048509</td>\n",
       "    </tr>\n",
       "    <tr>\n",
       "      <th>11</th>\n",
       "      <td>12</td>\n",
       "      <td>0.014115</td>\n",
       "    </tr>\n",
       "    <tr>\n",
       "      <th>12</th>\n",
       "      <td>13</td>\n",
       "      <td>0.013671</td>\n",
       "    </tr>\n",
       "    <tr>\n",
       "      <th>13</th>\n",
       "      <td>14</td>\n",
       "      <td>0.014140</td>\n",
       "    </tr>\n",
       "    <tr>\n",
       "      <th>14</th>\n",
       "      <td>15</td>\n",
       "      <td>0.013252</td>\n",
       "    </tr>\n",
       "    <tr>\n",
       "      <th>15</th>\n",
       "      <td>16</td>\n",
       "      <td>0.017925</td>\n",
       "    </tr>\n",
       "    <tr>\n",
       "      <th>16</th>\n",
       "      <td>17</td>\n",
       "      <td>0.015199</td>\n",
       "    </tr>\n",
       "    <tr>\n",
       "      <th>17</th>\n",
       "      <td>18</td>\n",
       "      <td>0.014758</td>\n",
       "    </tr>\n",
       "    <tr>\n",
       "      <th>18</th>\n",
       "      <td>19</td>\n",
       "      <td>0.013532</td>\n",
       "    </tr>\n",
       "    <tr>\n",
       "      <th>19</th>\n",
       "      <td>20</td>\n",
       "      <td>0.012061</td>\n",
       "    </tr>\n",
       "    <tr>\n",
       "      <th>20</th>\n",
       "      <td>21</td>\n",
       "      <td>0.012564</td>\n",
       "    </tr>\n",
       "    <tr>\n",
       "      <th>21</th>\n",
       "      <td>22</td>\n",
       "      <td>0.015067</td>\n",
       "    </tr>\n",
       "    <tr>\n",
       "      <th>22</th>\n",
       "      <td>23</td>\n",
       "      <td>0.012063</td>\n",
       "    </tr>\n",
       "    <tr>\n",
       "      <th>23</th>\n",
       "      <td>24</td>\n",
       "      <td>0.018723</td>\n",
       "    </tr>\n",
       "    <tr>\n",
       "      <th>24</th>\n",
       "      <td>25</td>\n",
       "      <td>0.014549</td>\n",
       "    </tr>\n",
       "    <tr>\n",
       "      <th>25</th>\n",
       "      <td>26</td>\n",
       "      <td>0.012554</td>\n",
       "    </tr>\n",
       "    <tr>\n",
       "      <th>26</th>\n",
       "      <td>27</td>\n",
       "      <td>0.012445</td>\n",
       "    </tr>\n",
       "    <tr>\n",
       "      <th>27</th>\n",
       "      <td>28</td>\n",
       "      <td>0.013664</td>\n",
       "    </tr>\n",
       "    <tr>\n",
       "      <th>28</th>\n",
       "      <td>29</td>\n",
       "      <td>0.012530</td>\n",
       "    </tr>\n",
       "    <tr>\n",
       "      <th>29</th>\n",
       "      <td>30</td>\n",
       "      <td>0.013010</td>\n",
       "    </tr>\n",
       "    <tr>\n",
       "      <th>30</th>\n",
       "      <td>31</td>\n",
       "      <td>0.012431</td>\n",
       "    </tr>\n",
       "    <tr>\n",
       "      <th>31</th>\n",
       "      <td>32</td>\n",
       "      <td>0.012339</td>\n",
       "    </tr>\n",
       "    <tr>\n",
       "      <th>32</th>\n",
       "      <td>33</td>\n",
       "      <td>0.012261</td>\n",
       "    </tr>\n",
       "    <tr>\n",
       "      <th>33</th>\n",
       "      <td>34</td>\n",
       "      <td>0.012671</td>\n",
       "    </tr>\n",
       "    <tr>\n",
       "      <th>34</th>\n",
       "      <td>35</td>\n",
       "      <td>0.013565</td>\n",
       "    </tr>\n",
       "    <tr>\n",
       "      <th>35</th>\n",
       "      <td>36</td>\n",
       "      <td>0.013961</td>\n",
       "    </tr>\n",
       "    <tr>\n",
       "      <th>36</th>\n",
       "      <td>37</td>\n",
       "      <td>0.013257</td>\n",
       "    </tr>\n",
       "    <tr>\n",
       "      <th>37</th>\n",
       "      <td>38</td>\n",
       "      <td>0.012746</td>\n",
       "    </tr>\n",
       "    <tr>\n",
       "      <th>38</th>\n",
       "      <td>39</td>\n",
       "      <td>0.014224</td>\n",
       "    </tr>\n",
       "    <tr>\n",
       "      <th>39</th>\n",
       "      <td>40</td>\n",
       "      <td>0.013360</td>\n",
       "    </tr>\n",
       "    <tr>\n",
       "      <th>40</th>\n",
       "      <td>41</td>\n",
       "      <td>0.013512</td>\n",
       "    </tr>\n",
       "    <tr>\n",
       "      <th>41</th>\n",
       "      <td>42</td>\n",
       "      <td>0.013290</td>\n",
       "    </tr>\n",
       "    <tr>\n",
       "      <th>42</th>\n",
       "      <td>43</td>\n",
       "      <td>0.011988</td>\n",
       "    </tr>\n",
       "    <tr>\n",
       "      <th>43</th>\n",
       "      <td>44</td>\n",
       "      <td>0.014017</td>\n",
       "    </tr>\n",
       "    <tr>\n",
       "      <th>44</th>\n",
       "      <td>45</td>\n",
       "      <td>0.011929</td>\n",
       "    </tr>\n",
       "    <tr>\n",
       "      <th>45</th>\n",
       "      <td>46</td>\n",
       "      <td>0.012581</td>\n",
       "    </tr>\n",
       "    <tr>\n",
       "      <th>46</th>\n",
       "      <td>47</td>\n",
       "      <td>0.012619</td>\n",
       "    </tr>\n",
       "    <tr>\n",
       "      <th>47</th>\n",
       "      <td>48</td>\n",
       "      <td>0.011741</td>\n",
       "    </tr>\n",
       "    <tr>\n",
       "      <th>48</th>\n",
       "      <td>49</td>\n",
       "      <td>0.013788</td>\n",
       "    </tr>\n",
       "    <tr>\n",
       "      <th>49</th>\n",
       "      <td>50</td>\n",
       "      <td>0.011494</td>\n",
       "    </tr>\n",
       "  </tbody>\n",
       "</table>\n",
       "</div>"
      ],
      "text/plain": [
       "    PCA  feature_import\n",
       "0     1        0.156377\n",
       "1     2        0.023822\n",
       "2     3        0.063550\n",
       "3     4        0.020499\n",
       "4     5        0.027723\n",
       "5     6        0.041749\n",
       "6     7        0.027890\n",
       "7     8        0.034670\n",
       "8     9        0.016073\n",
       "9    10        0.015543\n",
       "10   11        0.048509\n",
       "11   12        0.014115\n",
       "12   13        0.013671\n",
       "13   14        0.014140\n",
       "14   15        0.013252\n",
       "15   16        0.017925\n",
       "16   17        0.015199\n",
       "17   18        0.014758\n",
       "18   19        0.013532\n",
       "19   20        0.012061\n",
       "20   21        0.012564\n",
       "21   22        0.015067\n",
       "22   23        0.012063\n",
       "23   24        0.018723\n",
       "24   25        0.014549\n",
       "25   26        0.012554\n",
       "26   27        0.012445\n",
       "27   28        0.013664\n",
       "28   29        0.012530\n",
       "29   30        0.013010\n",
       "30   31        0.012431\n",
       "31   32        0.012339\n",
       "32   33        0.012261\n",
       "33   34        0.012671\n",
       "34   35        0.013565\n",
       "35   36        0.013961\n",
       "36   37        0.013257\n",
       "37   38        0.012746\n",
       "38   39        0.014224\n",
       "39   40        0.013360\n",
       "40   41        0.013512\n",
       "41   42        0.013290\n",
       "42   43        0.011988\n",
       "43   44        0.014017\n",
       "44   45        0.011929\n",
       "45   46        0.012581\n",
       "46   47        0.012619\n",
       "47   48        0.011741\n",
       "48   49        0.013788\n",
       "49   50        0.011494"
      ]
     },
     "execution_count": 149,
     "metadata": {},
     "output_type": "execute_result"
    }
   ],
   "source": [
    "# To be implemented\n",
    "PCA=pca_range\n",
    "coeff=model_rfc.feature_importances_\n",
    "daf={'PCA': PCA, 'feature_import':coeff}\n",
    "daf=pd.DataFrame(daf)\n",
    "daf"
   ]
  },
  {
   "cell_type": "code",
   "execution_count": 150,
   "metadata": {
    "collapsed": false
   },
   "outputs": [
    {
     "data": {
      "text/plain": [
       "<matplotlib.axes._subplots.AxesSubplot at 0x11ff66310>"
      ]
     },
     "execution_count": 150,
     "metadata": {},
     "output_type": "execute_result"
    },
    {
     "data": {
      "image/png": "[encoded data removed]",
      "text/plain": [
       "<matplotlib.figure.Figure at 0x11ff66d10>"
      ]
     },
     "metadata": {},
     "output_type": "display_data"
    }
   ],
   "source": [
    "daf.plot(x=\"PCA\", y=\"feature_import\", style=\"b\")"
   ]
  },
  {
   "cell_type": "code",
   "execution_count": null,
   "metadata": {
    "collapsed": true
   },
   "outputs": [],
   "source": []
  },
  {
   "cell_type": "markdown",
   "metadata": {},
   "source": [
    "## Extra Credit #1: Can you cluster restaurants from their category information?\n",
    "Hint: a business may have mutiple categories, e.g. a restaurant can have both \"Restaurants\" and \"Korean\""
   ]
  },
  {
   "cell_type": "code",
   "execution_count": null,
   "metadata": {
    "collapsed": true
   },
   "outputs": [],
   "source": [
    "# To be implemented"
   ]
  },
  {
   "cell_type": "markdown",
   "metadata": {},
   "source": [
    "## Extra Credit #2: Can you try different distance/similarity metrics for clusterings, e.g. Pearson correlation, Jaccard distance, etc. \n",
    "\n",
    "Hint: You can take a look at [scipy](http://docs.scipy.org/doc/scipy/reference/generated/scipy.spatial.distance.pdist.html#scipy.spatial.distance.pdist) documentations to use other distances\n",
    "\n",
    "#### Q: How do you compare with Cosine distance or Euclidean distance?"
   ]
  },
  {
   "cell_type": "code",
   "execution_count": null,
   "metadata": {
    "collapsed": true
   },
   "outputs": [],
   "source": [
    "# To be implemented"
   ]
  },
  {
   "cell_type": "markdown",
   "metadata": {},
   "source": [
    "## Extra Credit #3: Can you cluster categories from business entities? What does it mean by a cluster?\n",
    "Hint: Think the example where words can be clustered from the transposed tf-idf matrix."
   ]
  },
  {
   "cell_type": "code",
   "execution_count": null,
   "metadata": {
    "collapsed": true
   },
   "outputs": [],
   "source": [
    "# To be implemented"
   ]
  },
  {
   "cell_type": "markdown",
   "metadata": {},
   "source": [
    "## Extra Credit #4: What are the characteristics of each of the clustered  ? For each cluster, which restaurant can best represent (\"define\") its cluster?\n",
    "Hint: how to interpret \"best\"?"
   ]
  },
  {
   "cell_type": "code",
   "execution_count": null,
   "metadata": {
    "collapsed": true
   },
   "outputs": [],
   "source": [
    "# To be implemented"
   ]
  },
  {
   "cell_type": "markdown",
   "metadata": {},
   "source": [
    "## Extra Credit #5: Can you think of other use cases that clustering can be used? \n",
    "Hint: of course you can make use of other yelp dataset. You can try anything you want as long as you can explain it."
   ]
  },
  {
   "cell_type": "code",
   "execution_count": null,
   "metadata": {
    "collapsed": true
   },
   "outputs": [],
   "source": [
    "# To be implemented"
   ]
  },
  {
   "cell_type": "code",
   "execution_count": null,
   "metadata": {
    "collapsed": true
   },
   "outputs": [],
   "source": []
  }
 ],
 "metadata": {
  "anaconda-cloud": {},
  "kernelspec": {
   "display_name": "Python 2",
   "language": "python",
   "name": "python2"
  },
  "language_info": {
   "codemirror_mode": {
    "name": "ipython",
    "version": 2
   },
   "file_extension": ".py",
   "mimetype": "text/x-python",
   "name": "python",
   "nbconvert_exporter": "python",
   "pygments_lexer": "ipython2",
   "version": "2.7.13"
  }
 },
 "nbformat": 4,
 "nbformat_minor": 1
}
